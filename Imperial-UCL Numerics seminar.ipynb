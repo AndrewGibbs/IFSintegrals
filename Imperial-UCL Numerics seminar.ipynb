{
 "cells": [
  {
   "cell_type": "markdown",
   "id": "f3859875",
   "metadata": {},
   "source": [
    "## Imperial-UCL Numerics seminar"
   ]
  },
  {
   "cell_type": "code",
   "execution_count": null,
   "id": "4b206365",
   "metadata": {},
   "outputs": [],
   "source": [
    "include(\"src/QuadIFS.jl\")\n",
    "using .QuadIFS\n",
    "using Plots, LaTeXStrings"
   ]
  },
  {
   "cell_type": "markdown",
   "id": "45ae7a70",
   "metadata": {},
   "source": [
    "## Example one: sketching a fractal from its IFS\n",
    "\n",
    "Generate a set of 10 random points in $(0,1)^2$"
   ]
  },
  {
   "cell_type": "code",
   "execution_count": null,
   "id": "ea3a9e78",
   "metadata": {},
   "outputs": [],
   "source": [
    "X = rand(2,10)\n",
    "scatter(X[1,:],X[2,:],legend=:false,markersize=10, \n",
    "        markercolor=\"black\",aspect_ratio=:equal)"
   ]
  },
  {
   "cell_type": "markdown",
   "id": "d302fefe",
   "metadata": {},
   "source": [
    "Define some similarities of the form $s_m(x)=rx+\\delta_m$. The syntax describing each map here is ```Similarity(contraction, translation)```."
   ]
  },
  {
   "cell_type": "code",
   "execution_count": null,
   "id": "dd38baa7",
   "metadata": {},
   "outputs": [],
   "source": [
    "s₁ = Similarity(1/3,[0.0,0.0])\n",
    "s₂ = Similarity(1/3,[2/3,0.0])\n",
    "s₃ = Similarity(1/3,[0.0,2/3])\n",
    "s₄ = Similarity(1/3,[2/3,2/3]);"
   ]
  },
  {
   "cell_type": "markdown",
   "id": "7af7cd62",
   "metadata": {},
   "source": [
    "An iterated function system (IFS) can be reprersented as an array of similarities:"
   ]
  },
  {
   "cell_type": "code",
   "execution_count": null,
   "id": "da7508ea",
   "metadata": {},
   "outputs": [],
   "source": [
    "IFS = [s₁, s₂, s₃, s₄];"
   ]
  },
  {
   "cell_type": "markdown",
   "id": "f6100053",
   "metadata": {},
   "source": [
    "The full map is defined mathematically as $S(X) := \\cup_{m=1}^Ms_m(X)$. We can apply this iteratively to our original set of random points."
   ]
  },
  {
   "cell_type": "code",
   "execution_count": null,
   "id": "05075683",
   "metadata": {},
   "outputs": [],
   "source": [
    "X = full_map(IFS,X)\n",
    "scatter(X[1,:],X[2,:],legend=:false,markersize=0.5, \n",
    "        markercolor=\"black\",aspect_ratio=:equal)"
   ]
  },
  {
   "cell_type": "markdown",
   "id": "805cae40",
   "metadata": {},
   "source": [
    "## Example two: quadrature rule on an IFS attractor"
   ]
  },
  {
   "cell_type": "code",
   "execution_count": null,
   "id": "976916c0",
   "metadata": {},
   "outputs": [],
   "source": [
    "Γ = Attractor(IFS);"
   ]
  },
  {
   "cell_type": "code",
   "execution_count": null,
   "id": "113390b3",
   "metadata": {},
   "outputs": [],
   "source": [
    "h = 0.01\n",
    "x,w = barycentre_rule(Γ,h);"
   ]
  },
  {
   "cell_type": "code",
   "execution_count": null,
   "id": "d384568a",
   "metadata": {},
   "outputs": [],
   "source": [
    "scatter(x[:,1],x[:,2],legend=:false,markersize=1, \n",
    "        markercolor=\"black\",aspect_ratio=:equal)"
   ]
  },
  {
   "cell_type": "markdown",
   "id": "c87a659a",
   "metadata": {},
   "source": [
    "## Example three: Acoustic scattering"
   ]
  },
  {
   "cell_type": "code",
   "execution_count": null,
   "id": "3ea639f1",
   "metadata": {},
   "outputs": [],
   "source": [
    "k = 53 # wavenumber\n",
    "d = [0 0 -1] # incoming wave direction\n",
    "f(x) = exp(im*k*(d[1:2]'*x)); # RHS data"
   ]
  },
  {
   "cell_type": "code",
   "execution_count": null,
   "id": "dd8be622",
   "metadata": {},
   "outputs": [],
   "source": [
    "S = SingleLayer(Γ, k); # single layer integral operator defined on fractal Γ"
   ]
  },
  {
   "cell_type": "code",
   "execution_count": null,
   "id": "084d11d2",
   "metadata": {},
   "outputs": [],
   "source": [
    "h_BEM = 0.01\n",
    "h_QUAD = 0.001\n",
    "Sₕ = DiscreteBIO(S,h_BEM,h_QUAD); #discretise BIO"
   ]
  },
  {
   "cell_type": "markdown",
   "id": "b7866148",
   "metadata": {},
   "source": [
    "The below is a temporary fix for Julia 1.7, please ignore... details are [here](https://github.com/JuliaLang/julia/issues/43301) and [here](https://github.com/JuliaLang/julia/issues/43008)"
   ]
  },
  {
   "cell_type": "code",
   "execution_count": null,
   "id": "c60070ca",
   "metadata": {},
   "outputs": [],
   "source": [
    "using LinearAlgebra\n",
    "BLAS.set_num_threads(1)"
   ]
  },
  {
   "cell_type": "code",
   "execution_count": null,
   "id": "37a10f10",
   "metadata": {},
   "outputs": [],
   "source": [
    "ϕₕ = Sₕ\\f; # solve the discrete problem"
   ]
  },
  {
   "cell_type": "markdown",
   "id": "5104bf40",
   "metadata": {},
   "source": [
    "The rest of the code is just making a slice plot..."
   ]
  },
  {
   "cell_type": "code",
   "execution_count": null,
   "id": "a6799479",
   "metadata": {},
   "outputs": [],
   "source": [
    "h=0.01 # adujust this for more acurate / faster plots\n",
    "z_val = - 0.1\n",
    "x_1 = [j for j=0:h:1] # !!! ADJUST THESE IF fractal is outside [0,1]²\n",
    "x_2 = [j for j=0:h:1]\n",
    "X_1 = repeat(x_1, outer=(1,length(x_2)))\n",
    "X_2 = copy(transpose(repeat(x_2, outer=(1,length(x_1)))))\n",
    "N = length(x_1)*length(x_2)\n",
    "X = [reshape(X_1, (N,)) reshape(X_2, (N,)) z_val*ones(Float64,N)]\n",
    "uˢ = - single_layer_potential(Γ,k,ϕₕ,X)\n",
    "uⁱ(x) = exp.(im*k*(x*d'))[:] # define inc field in domain\n",
    "uᵗ = uⁱ(X) + uˢ\n",
    "vals = reshape(uᵗ,(length(x_1),length(x_2)));"
   ]
  },
  {
   "cell_type": "code",
   "execution_count": null,
   "id": "64eee8f4",
   "metadata": {},
   "outputs": [],
   "source": [
    "heatmap(x_1,x_2,transpose(abs.(uˢ)),  aspect_ratio = 1, \n",
    "    title=L\"|u^s|\", legend=true, c = :thermal)"
   ]
  },
  {
   "cell_type": "code",
   "execution_count": null,
   "id": "b176b274",
   "metadata": {},
   "outputs": [],
   "source": []
  }
 ],
 "metadata": {
  "kernelspec": {
   "display_name": "Julia 1.7.0",
   "language": "julia",
   "name": "julia-1.7"
  },
  "language_info": {
   "file_extension": ".jl",
   "mimetype": "application/julia",
   "name": "julia",
   "version": "1.7.0"
  }
 },
 "nbformat": 4,
 "nbformat_minor": 5
}
