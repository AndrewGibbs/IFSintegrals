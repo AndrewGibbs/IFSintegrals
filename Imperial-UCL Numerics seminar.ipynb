{
 "cells": [
  {
   "cell_type": "markdown",
   "id": "f3859875",
   "metadata": {},
   "source": [
    "## Imperial-UCL Numerics seminar"
   ]
  },
  {
   "cell_type": "code",
   "execution_count": 1,
   "id": "4b206365",
   "metadata": {},
   "outputs": [
    {
     "name": "stderr",
     "output_type": "stream",
     "text": [
      "┌ Info: Precompiling IFSintegrals [2e7d41c8-7523-11ec-3fc2-377bcf57d765]\n",
      "└ @ Base loading.jl:1423\n",
      "WARNING: Method definition (::Type{IFSintegrals.Similarity})(Any, Any, Any) in module IFSintegrals at /home/andrew/OneDrive/IFSintegrals/src/fractals.jl:14 overwritten at /home/andrew/OneDrive/IFSintegrals/src/fractals.jl:15.\n",
      "  ** incremental compilation may be fatally broken for this module **\n",
      "\n",
      "┌ Info: Precompiling Plots [91a5bcdd-55d7-5caf-9e0b-520d859cae80]\n",
      "└ @ Base loading.jl:1423\n"
     ]
    }
   ],
   "source": [
    "using IFSintegrals, Plots, LaTeXStrings"
   ]
  },
  {
   "cell_type": "markdown",
   "id": "45ae7a70",
   "metadata": {},
   "source": [
    "## Example one: sketching a fractal from its IFS\n",
    "\n",
    "Generate a set of 10 random points in $(0,1)^2$"
   ]
  },
  {
   "cell_type": "code",
   "execution_count": 2,
   "id": "ea3a9e78",
   "metadata": {},
   "outputs": [
    {
     "data": {
      "image/svg+xml": [
       "<?xml version=\"1.0\" encoding=\"utf-8\"?>\n",
       "<svg xmlns=\"http://www.w3.org/2000/svg\" xmlns:xlink=\"http://www.w3.org/1999/xlink\" width=\"600\" height=\"400\" viewBox=\"0 0 2400 1600\">\n",
       "<defs>\n",
       "  <clipPath id=\"clip660\">\n",
       "    <rect x=\"0\" y=\"0\" width=\"2400\" height=\"1600\"/>\n",
       "  </clipPath>\n",
       "</defs>\n",
       "<path clip-path=\"url(#clip660)\" d=\"\n",
       "M0 1600 L2400 1600 L2400 0 L0 0  Z\n",
       "  \" fill=\"#ffffff\" fill-rule=\"evenodd\" fill-opacity=\"1\"/>\n",
       "<defs>\n",
       "  <clipPath id=\"clip661\">\n",
       "    <rect x=\"480\" y=\"0\" width=\"1681\" height=\"1600\"/>\n",
       "  </clipPath>\n",
       "</defs>\n",
       "<path clip-path=\"url(#clip660)\" d=\"\n",
       "M156.598 1486.45 L2352.76 1486.45 L2352.76 47.2441 L156.598 47.2441  Z\n",
       "  \" fill=\"#ffffff\" fill-rule=\"evenodd\" fill-opacity=\"1\"/>\n",
       "<defs>\n",
       "  <clipPath id=\"clip662\">\n",
       "    <rect x=\"156\" y=\"47\" width=\"2197\" height=\"1440\"/>\n",
       "  </clipPath>\n",
       "</defs>\n",
       "<polyline clip-path=\"url(#clip662)\" style=\"stroke:#000000; stroke-linecap:butt; stroke-linejoin:round; stroke-width:2; stroke-opacity:0.1; fill:none\" points=\"\n",
       "  370.114,1486.45 370.114,47.2441 \n",
       "  \"/>\n",
       "<polyline clip-path=\"url(#clip662)\" style=\"stroke:#000000; stroke-linecap:butt; stroke-linejoin:round; stroke-width:2; stroke-opacity:0.1; fill:none\" points=\"\n",
       "  822.512,1486.45 822.512,47.2441 \n",
       "  \"/>\n",
       "<polyline clip-path=\"url(#clip662)\" style=\"stroke:#000000; stroke-linecap:butt; stroke-linejoin:round; stroke-width:2; stroke-opacity:0.1; fill:none\" points=\"\n",
       "  1274.91,1486.45 1274.91,47.2441 \n",
       "  \"/>\n",
       "<polyline clip-path=\"url(#clip662)\" style=\"stroke:#000000; stroke-linecap:butt; stroke-linejoin:round; stroke-width:2; stroke-opacity:0.1; fill:none\" points=\"\n",
       "  1727.31,1486.45 1727.31,47.2441 \n",
       "  \"/>\n",
       "<polyline clip-path=\"url(#clip662)\" style=\"stroke:#000000; stroke-linecap:butt; stroke-linejoin:round; stroke-width:2; stroke-opacity:0.1; fill:none\" points=\"\n",
       "  2179.71,1486.45 2179.71,47.2441 \n",
       "  \"/>\n",
       "<polyline clip-path=\"url(#clip660)\" style=\"stroke:#000000; stroke-linecap:butt; stroke-linejoin:round; stroke-width:4; stroke-opacity:1; fill:none\" points=\"\n",
       "  156.598,1486.45 2352.76,1486.45 \n",
       "  \"/>\n",
       "<polyline clip-path=\"url(#clip660)\" style=\"stroke:#000000; stroke-linecap:butt; stroke-linejoin:round; stroke-width:4; stroke-opacity:1; fill:none\" points=\"\n",
       "  370.114,1486.45 370.114,1467.55 \n",
       "  \"/>\n",
       "<polyline clip-path=\"url(#clip660)\" style=\"stroke:#000000; stroke-linecap:butt; stroke-linejoin:round; stroke-width:4; stroke-opacity:1; fill:none\" points=\"\n",
       "  822.512,1486.45 822.512,1467.55 \n",
       "  \"/>\n",
       "<polyline clip-path=\"url(#clip660)\" style=\"stroke:#000000; stroke-linecap:butt; stroke-linejoin:round; stroke-width:4; stroke-opacity:1; fill:none\" points=\"\n",
       "  1274.91,1486.45 1274.91,1467.55 \n",
       "  \"/>\n",
       "<polyline clip-path=\"url(#clip660)\" style=\"stroke:#000000; stroke-linecap:butt; stroke-linejoin:round; stroke-width:4; stroke-opacity:1; fill:none\" points=\"\n",
       "  1727.31,1486.45 1727.31,1467.55 \n",
       "  \"/>\n",
       "<polyline clip-path=\"url(#clip660)\" style=\"stroke:#000000; stroke-linecap:butt; stroke-linejoin:round; stroke-width:4; stroke-opacity:1; fill:none\" points=\"\n",
       "  2179.71,1486.45 2179.71,1467.55 \n",
       "  \"/>\n",
       "<path clip-path=\"url(#clip660)\" d=\"M347.499 1517.37 Q343.888 1517.37 342.059 1520.93 Q340.253 1524.47 340.253 1531.6 Q340.253 1538.71 342.059 1542.27 Q343.888 1545.82 347.499 1545.82 Q351.133 1545.82 352.939 1542.27 Q354.767 1538.71 354.767 1531.6 Q354.767 1524.47 352.939 1520.93 Q351.133 1517.37 347.499 1517.37 M347.499 1513.66 Q353.309 1513.66 356.364 1518.27 Q359.443 1522.85 359.443 1531.6 Q359.443 1540.33 356.364 1544.94 Q353.309 1549.52 347.499 1549.52 Q341.689 1549.52 338.61 1544.94 Q335.554 1540.33 335.554 1531.6 Q335.554 1522.85 338.61 1518.27 Q341.689 1513.66 347.499 1513.66 Z\" fill=\"#000000\" fill-rule=\"evenodd\" fill-opacity=\"1\" /><path clip-path=\"url(#clip660)\" d=\"M367.661 1542.97 L372.545 1542.97 L372.545 1548.85 L367.661 1548.85 L367.661 1542.97 Z\" fill=\"#000000\" fill-rule=\"evenodd\" fill-opacity=\"1\" /><path clip-path=\"url(#clip660)\" d=\"M392.73 1517.37 Q389.119 1517.37 387.29 1520.93 Q385.485 1524.47 385.485 1531.6 Q385.485 1538.71 387.29 1542.27 Q389.119 1545.82 392.73 1545.82 Q396.364 1545.82 398.17 1542.27 Q399.998 1538.71 399.998 1531.6 Q399.998 1524.47 398.17 1520.93 Q396.364 1517.37 392.73 1517.37 M392.73 1513.66 Q398.54 1513.66 401.596 1518.27 Q404.674 1522.85 404.674 1531.6 Q404.674 1540.33 401.596 1544.94 Q398.54 1549.52 392.73 1549.52 Q386.92 1549.52 383.841 1544.94 Q380.786 1540.33 380.786 1531.6 Q380.786 1522.85 383.841 1518.27 Q386.92 1513.66 392.73 1513.66 Z\" fill=\"#000000\" fill-rule=\"evenodd\" fill-opacity=\"1\" /><path clip-path=\"url(#clip660)\" d=\"M800.695 1517.37 Q797.084 1517.37 795.256 1520.93 Q793.45 1524.47 793.45 1531.6 Q793.45 1538.71 795.256 1542.27 Q797.084 1545.82 800.695 1545.82 Q804.33 1545.82 806.135 1542.27 Q807.964 1538.71 807.964 1531.6 Q807.964 1524.47 806.135 1520.93 Q804.33 1517.37 800.695 1517.37 M800.695 1513.66 Q806.506 1513.66 809.561 1518.27 Q812.64 1522.85 812.64 1531.6 Q812.64 1540.33 809.561 1544.94 Q806.506 1549.52 800.695 1549.52 Q794.885 1549.52 791.807 1544.94 Q788.751 1540.33 788.751 1531.6 Q788.751 1522.85 791.807 1518.27 Q794.885 1513.66 800.695 1513.66 Z\" fill=\"#000000\" fill-rule=\"evenodd\" fill-opacity=\"1\" /><path clip-path=\"url(#clip660)\" d=\"M820.857 1542.97 L825.742 1542.97 L825.742 1548.85 L820.857 1548.85 L820.857 1542.97 Z\" fill=\"#000000\" fill-rule=\"evenodd\" fill-opacity=\"1\" /><path clip-path=\"url(#clip660)\" d=\"M839.955 1544.91 L856.274 1544.91 L856.274 1548.85 L834.33 1548.85 L834.33 1544.91 Q836.992 1542.16 841.575 1537.53 Q846.181 1532.88 847.362 1531.53 Q849.607 1529.01 850.487 1527.27 Q851.39 1525.51 851.39 1523.82 Q851.39 1521.07 849.445 1519.33 Q847.524 1517.6 844.422 1517.6 Q842.223 1517.6 839.769 1518.36 Q837.339 1519.13 834.561 1520.68 L834.561 1515.95 Q837.385 1514.82 839.839 1514.24 Q842.292 1513.66 844.329 1513.66 Q849.7 1513.66 852.894 1516.35 Q856.089 1519.03 856.089 1523.52 Q856.089 1525.65 855.279 1527.57 Q854.491 1529.47 852.385 1532.07 Q851.806 1532.74 848.704 1535.95 Q845.603 1539.15 839.955 1544.91 Z\" fill=\"#000000\" fill-rule=\"evenodd\" fill-opacity=\"1\" /><path clip-path=\"url(#clip660)\" d=\"M1252.05 1517.37 Q1248.44 1517.37 1246.61 1520.93 Q1244.81 1524.47 1244.81 1531.6 Q1244.81 1538.71 1246.61 1542.27 Q1248.44 1545.82 1252.05 1545.82 Q1255.69 1545.82 1257.49 1542.27 Q1259.32 1538.71 1259.32 1531.6 Q1259.32 1524.47 1257.49 1520.93 Q1255.69 1517.37 1252.05 1517.37 M1252.05 1513.66 Q1257.86 1513.66 1260.92 1518.27 Q1264 1522.85 1264 1531.6 Q1264 1540.33 1260.92 1544.94 Q1257.86 1549.52 1252.05 1549.52 Q1246.24 1549.52 1243.16 1544.94 Q1240.11 1540.33 1240.11 1531.6 Q1240.11 1522.85 1243.16 1518.27 Q1246.24 1513.66 1252.05 1513.66 Z\" fill=\"#000000\" fill-rule=\"evenodd\" fill-opacity=\"1\" /><path clip-path=\"url(#clip660)\" d=\"M1272.21 1542.97 L1277.1 1542.97 L1277.1 1548.85 L1272.21 1548.85 L1272.21 1542.97 Z\" fill=\"#000000\" fill-rule=\"evenodd\" fill-opacity=\"1\" /><path clip-path=\"url(#clip660)\" d=\"M1300.13 1518.36 L1288.32 1536.81 L1300.13 1536.81 L1300.13 1518.36 M1298.9 1514.29 L1304.78 1514.29 L1304.78 1536.81 L1309.71 1536.81 L1309.71 1540.7 L1304.78 1540.7 L1304.78 1548.85 L1300.13 1548.85 L1300.13 1540.7 L1284.53 1540.7 L1284.53 1536.19 L1298.9 1514.29 Z\" fill=\"#000000\" fill-rule=\"evenodd\" fill-opacity=\"1\" /><path clip-path=\"url(#clip660)\" d=\"M1704.61 1517.37 Q1701 1517.37 1699.17 1520.93 Q1697.37 1524.47 1697.37 1531.6 Q1697.37 1538.71 1699.17 1542.27 Q1701 1545.82 1704.61 1545.82 Q1708.25 1545.82 1710.05 1542.27 Q1711.88 1538.71 1711.88 1531.6 Q1711.88 1524.47 1710.05 1520.93 Q1708.25 1517.37 1704.61 1517.37 M1704.61 1513.66 Q1710.42 1513.66 1713.48 1518.27 Q1716.56 1522.85 1716.56 1531.6 Q1716.56 1540.33 1713.48 1544.94 Q1710.42 1549.52 1704.61 1549.52 Q1698.8 1549.52 1695.72 1544.94 Q1692.67 1540.33 1692.67 1531.6 Q1692.67 1522.85 1695.72 1518.27 Q1698.8 1513.66 1704.61 1513.66 Z\" fill=\"#000000\" fill-rule=\"evenodd\" fill-opacity=\"1\" /><path clip-path=\"url(#clip660)\" d=\"M1724.77 1542.97 L1729.66 1542.97 L1729.66 1548.85 L1724.77 1548.85 L1724.77 1542.97 Z\" fill=\"#000000\" fill-rule=\"evenodd\" fill-opacity=\"1\" /><path clip-path=\"url(#clip660)\" d=\"M1750.42 1529.7 Q1747.27 1529.7 1745.42 1531.86 Q1743.59 1534.01 1743.59 1537.76 Q1743.59 1541.49 1745.42 1543.66 Q1747.27 1545.82 1750.42 1545.82 Q1753.57 1545.82 1755.4 1543.66 Q1757.25 1541.49 1757.25 1537.76 Q1757.25 1534.01 1755.4 1531.86 Q1753.57 1529.7 1750.42 1529.7 M1759.7 1515.05 L1759.7 1519.31 Q1757.95 1518.48 1756.14 1518.04 Q1754.36 1517.6 1752.6 1517.6 Q1747.97 1517.6 1745.51 1520.72 Q1743.08 1523.85 1742.74 1530.17 Q1744.1 1528.15 1746.16 1527.09 Q1748.22 1526 1750.7 1526 Q1755.91 1526 1758.92 1529.17 Q1761.95 1532.32 1761.95 1537.76 Q1761.95 1543.08 1758.8 1546.3 Q1755.65 1549.52 1750.42 1549.52 Q1744.43 1549.52 1741.26 1544.94 Q1738.08 1540.33 1738.08 1531.6 Q1738.08 1523.41 1741.97 1518.55 Q1745.86 1513.66 1752.41 1513.66 Q1754.17 1513.66 1755.95 1514.01 Q1757.76 1514.36 1759.7 1515.05 Z\" fill=\"#000000\" fill-rule=\"evenodd\" fill-opacity=\"1\" /><path clip-path=\"url(#clip660)\" d=\"M2157.14 1517.37 Q2153.53 1517.37 2151.7 1520.93 Q2149.89 1524.47 2149.89 1531.6 Q2149.89 1538.71 2151.7 1542.27 Q2153.53 1545.82 2157.14 1545.82 Q2160.77 1545.82 2162.58 1542.27 Q2164.41 1538.71 2164.41 1531.6 Q2164.41 1524.47 2162.58 1520.93 Q2160.77 1517.37 2157.14 1517.37 M2157.14 1513.66 Q2162.95 1513.66 2166 1518.27 Q2169.08 1522.85 2169.08 1531.6 Q2169.08 1540.33 2166 1544.94 Q2162.95 1549.52 2157.14 1549.52 Q2151.33 1549.52 2148.25 1544.94 Q2145.19 1540.33 2145.19 1531.6 Q2145.19 1522.85 2148.25 1518.27 Q2151.33 1513.66 2157.14 1513.66 Z\" fill=\"#000000\" fill-rule=\"evenodd\" fill-opacity=\"1\" /><path clip-path=\"url(#clip660)\" d=\"M2177.3 1542.97 L2182.18 1542.97 L2182.18 1548.85 L2177.3 1548.85 L2177.3 1542.97 Z\" fill=\"#000000\" fill-rule=\"evenodd\" fill-opacity=\"1\" /><path clip-path=\"url(#clip660)\" d=\"M2202.37 1532.44 Q2199.04 1532.44 2197.11 1534.22 Q2195.22 1536 2195.22 1539.13 Q2195.22 1542.25 2197.11 1544.03 Q2199.04 1545.82 2202.37 1545.82 Q2205.7 1545.82 2207.62 1544.03 Q2209.54 1542.23 2209.54 1539.13 Q2209.54 1536 2207.62 1534.22 Q2205.73 1532.44 2202.37 1532.44 M2197.69 1530.45 Q2194.68 1529.7 2192.99 1527.64 Q2191.33 1525.58 2191.33 1522.62 Q2191.33 1518.48 2194.27 1516.07 Q2197.23 1513.66 2202.37 1513.66 Q2207.53 1513.66 2210.47 1516.07 Q2213.41 1518.48 2213.41 1522.62 Q2213.41 1525.58 2211.72 1527.64 Q2210.05 1529.7 2207.07 1530.45 Q2210.45 1531.23 2212.32 1533.52 Q2214.22 1535.82 2214.22 1539.13 Q2214.22 1544.15 2211.14 1546.83 Q2208.09 1549.52 2202.37 1549.52 Q2196.65 1549.52 2193.57 1546.83 Q2190.52 1544.15 2190.52 1539.13 Q2190.52 1535.82 2192.42 1533.52 Q2194.31 1531.23 2197.69 1530.45 M2195.98 1523.06 Q2195.98 1525.75 2197.65 1527.25 Q2199.34 1528.76 2202.37 1528.76 Q2205.38 1528.76 2207.07 1527.25 Q2208.78 1525.75 2208.78 1523.06 Q2208.78 1520.38 2207.07 1518.87 Q2205.38 1517.37 2202.37 1517.37 Q2199.34 1517.37 2197.65 1518.87 Q2195.98 1520.38 2195.98 1523.06 Z\" fill=\"#000000\" fill-rule=\"evenodd\" fill-opacity=\"1\" /><polyline clip-path=\"url(#clip662)\" style=\"stroke:#000000; stroke-linecap:butt; stroke-linejoin:round; stroke-width:2; stroke-opacity:0.1; fill:none\" points=\"\n",
       "  156.598,1365.72 2352.76,1365.72 \n",
       "  \"/>\n",
       "<polyline clip-path=\"url(#clip662)\" style=\"stroke:#000000; stroke-linecap:butt; stroke-linejoin:round; stroke-width:2; stroke-opacity:0.1; fill:none\" points=\"\n",
       "  156.598,1139.52 2352.76,1139.52 \n",
       "  \"/>\n",
       "<polyline clip-path=\"url(#clip662)\" style=\"stroke:#000000; stroke-linecap:butt; stroke-linejoin:round; stroke-width:2; stroke-opacity:0.1; fill:none\" points=\"\n",
       "  156.598,913.323 2352.76,913.323 \n",
       "  \"/>\n",
       "<polyline clip-path=\"url(#clip662)\" style=\"stroke:#000000; stroke-linecap:butt; stroke-linejoin:round; stroke-width:2; stroke-opacity:0.1; fill:none\" points=\"\n",
       "  156.598,687.124 2352.76,687.124 \n",
       "  \"/>\n",
       "<polyline clip-path=\"url(#clip662)\" style=\"stroke:#000000; stroke-linecap:butt; stroke-linejoin:round; stroke-width:2; stroke-opacity:0.1; fill:none\" points=\"\n",
       "  156.598,460.925 2352.76,460.925 \n",
       "  \"/>\n",
       "<polyline clip-path=\"url(#clip662)\" style=\"stroke:#000000; stroke-linecap:butt; stroke-linejoin:round; stroke-width:2; stroke-opacity:0.1; fill:none\" points=\"\n",
       "  156.598,234.726 2352.76,234.726 \n",
       "  \"/>\n",
       "<polyline clip-path=\"url(#clip660)\" style=\"stroke:#000000; stroke-linecap:butt; stroke-linejoin:round; stroke-width:4; stroke-opacity:1; fill:none\" points=\"\n",
       "  156.598,1486.45 156.598,47.2441 \n",
       "  \"/>\n",
       "<polyline clip-path=\"url(#clip660)\" style=\"stroke:#000000; stroke-linecap:butt; stroke-linejoin:round; stroke-width:4; stroke-opacity:1; fill:none\" points=\"\n",
       "  156.598,1365.72 175.496,1365.72 \n",
       "  \"/>\n",
       "<polyline clip-path=\"url(#clip660)\" style=\"stroke:#000000; stroke-linecap:butt; stroke-linejoin:round; stroke-width:4; stroke-opacity:1; fill:none\" points=\"\n",
       "  156.598,1139.52 175.496,1139.52 \n",
       "  \"/>\n",
       "<polyline clip-path=\"url(#clip660)\" style=\"stroke:#000000; stroke-linecap:butt; stroke-linejoin:round; stroke-width:4; stroke-opacity:1; fill:none\" points=\"\n",
       "  156.598,913.323 175.496,913.323 \n",
       "  \"/>\n",
       "<polyline clip-path=\"url(#clip660)\" style=\"stroke:#000000; stroke-linecap:butt; stroke-linejoin:round; stroke-width:4; stroke-opacity:1; fill:none\" points=\"\n",
       "  156.598,687.124 175.496,687.124 \n",
       "  \"/>\n",
       "<polyline clip-path=\"url(#clip660)\" style=\"stroke:#000000; stroke-linecap:butt; stroke-linejoin:round; stroke-width:4; stroke-opacity:1; fill:none\" points=\"\n",
       "  156.598,460.925 175.496,460.925 \n",
       "  \"/>\n",
       "<polyline clip-path=\"url(#clip660)\" style=\"stroke:#000000; stroke-linecap:butt; stroke-linejoin:round; stroke-width:4; stroke-opacity:1; fill:none\" points=\"\n",
       "  156.598,234.726 175.496,234.726 \n",
       "  \"/>\n",
       "<path clip-path=\"url(#clip660)\" d=\"M64.0708 1351.52 Q60.4597 1351.52 58.631 1355.08 Q56.8254 1358.63 56.8254 1365.76 Q56.8254 1372.86 58.631 1376.43 Q60.4597 1379.97 64.0708 1379.97 Q67.705 1379.97 69.5105 1376.43 Q71.3392 1372.86 71.3392 1365.76 Q71.3392 1358.63 69.5105 1355.08 Q67.705 1351.52 64.0708 1351.52 M64.0708 1347.82 Q69.8809 1347.82 72.9365 1352.42 Q76.0151 1357.01 76.0151 1365.76 Q76.0151 1374.48 72.9365 1379.09 Q69.8809 1383.67 64.0708 1383.67 Q58.2606 1383.67 55.1819 1379.09 Q52.1264 1374.48 52.1264 1365.76 Q52.1264 1357.01 55.1819 1352.42 Q58.2606 1347.82 64.0708 1347.82 Z\" fill=\"#000000\" fill-rule=\"evenodd\" fill-opacity=\"1\" /><path clip-path=\"url(#clip660)\" d=\"M84.2327 1377.12 L89.1169 1377.12 L89.1169 1383 L84.2327 1383 L84.2327 1377.12 Z\" fill=\"#000000\" fill-rule=\"evenodd\" fill-opacity=\"1\" /><path clip-path=\"url(#clip660)\" d=\"M113.469 1364.37 Q116.825 1365.08 118.7 1367.35 Q120.598 1369.62 120.598 1372.96 Q120.598 1378.07 117.08 1380.87 Q113.561 1383.67 107.08 1383.67 Q104.904 1383.67 102.589 1383.23 Q100.297 1382.82 97.8437 1381.96 L97.8437 1377.45 Q99.7882 1378.58 102.103 1379.16 Q104.418 1379.74 106.941 1379.74 Q111.339 1379.74 113.631 1378 Q115.945 1376.27 115.945 1372.96 Q115.945 1369.9 113.793 1368.19 Q111.663 1366.45 107.844 1366.45 L103.816 1366.45 L103.816 1362.61 L108.029 1362.61 Q111.478 1362.61 113.307 1361.24 Q115.135 1359.85 115.135 1357.26 Q115.135 1354.6 113.237 1353.19 Q111.362 1351.75 107.844 1351.75 Q105.922 1351.75 103.723 1352.17 Q101.524 1352.58 98.8854 1353.46 L98.8854 1349.3 Q101.547 1348.56 103.862 1348.19 Q106.2 1347.82 108.26 1347.82 Q113.584 1347.82 116.686 1350.25 Q119.788 1352.65 119.788 1356.77 Q119.788 1359.65 118.145 1361.64 Q116.501 1363.6 113.469 1364.37 Z\" fill=\"#000000\" fill-rule=\"evenodd\" fill-opacity=\"1\" /><path clip-path=\"url(#clip660)\" d=\"M62.9365 1125.32 Q59.3254 1125.32 57.4967 1128.89 Q55.6912 1132.43 55.6912 1139.56 Q55.6912 1146.66 57.4967 1150.23 Q59.3254 1153.77 62.9365 1153.77 Q66.5707 1153.77 68.3763 1150.23 Q70.205 1146.66 70.205 1139.56 Q70.205 1132.43 68.3763 1128.89 Q66.5707 1125.32 62.9365 1125.32 M62.9365 1121.62 Q68.7467 1121.62 71.8022 1126.22 Q74.8809 1130.81 74.8809 1139.56 Q74.8809 1148.28 71.8022 1152.89 Q68.7467 1157.47 62.9365 1157.47 Q57.1264 1157.47 54.0477 1152.89 Q50.9921 1148.28 50.9921 1139.56 Q50.9921 1130.81 54.0477 1126.22 Q57.1264 1121.62 62.9365 1121.62 Z\" fill=\"#000000\" fill-rule=\"evenodd\" fill-opacity=\"1\" /><path clip-path=\"url(#clip660)\" d=\"M83.0984 1150.92 L87.9827 1150.92 L87.9827 1156.8 L83.0984 1156.8 L83.0984 1150.92 Z\" fill=\"#000000\" fill-rule=\"evenodd\" fill-opacity=\"1\" /><path clip-path=\"url(#clip660)\" d=\"M111.015 1126.32 L99.2095 1144.77 L111.015 1144.77 L111.015 1126.32 M109.788 1122.24 L115.668 1122.24 L115.668 1144.77 L120.598 1144.77 L120.598 1148.65 L115.668 1148.65 L115.668 1156.8 L111.015 1156.8 L111.015 1148.65 L95.4132 1148.65 L95.4132 1144.14 L109.788 1122.24 Z\" fill=\"#000000\" fill-rule=\"evenodd\" fill-opacity=\"1\" /><path clip-path=\"url(#clip660)\" d=\"M64.418 899.122 Q60.8069 899.122 58.9782 902.687 Q57.1726 906.228 57.1726 913.358 Q57.1726 920.464 58.9782 924.029 Q60.8069 927.571 64.418 927.571 Q68.0522 927.571 69.8578 924.029 Q71.6865 920.464 71.6865 913.358 Q71.6865 906.228 69.8578 902.687 Q68.0522 899.122 64.418 899.122 M64.418 895.418 Q70.2281 895.418 73.2837 900.025 Q76.3624 904.608 76.3624 913.358 Q76.3624 922.085 73.2837 926.691 Q70.2281 931.275 64.418 931.275 Q58.6078 931.275 55.5291 926.691 Q52.4736 922.085 52.4736 913.358 Q52.4736 904.608 55.5291 900.025 Q58.6078 895.418 64.418 895.418 Z\" fill=\"#000000\" fill-rule=\"evenodd\" fill-opacity=\"1\" /><path clip-path=\"url(#clip660)\" d=\"M84.5799 924.724 L89.4641 924.724 L89.4641 930.603 L84.5799 930.603 L84.5799 924.724 Z\" fill=\"#000000\" fill-rule=\"evenodd\" fill-opacity=\"1\" /><path clip-path=\"url(#clip660)\" d=\"M99.6956 896.043 L118.052 896.043 L118.052 899.978 L103.978 899.978 L103.978 908.451 Q104.996 908.103 106.015 907.941 Q107.033 907.756 108.052 907.756 Q113.839 907.756 117.219 910.927 Q120.598 914.099 120.598 919.515 Q120.598 925.094 117.126 928.196 Q113.654 931.275 107.334 931.275 Q105.159 931.275 102.89 930.904 Q100.645 930.534 98.2372 929.793 L98.2372 925.094 Q100.321 926.228 102.543 926.784 Q104.765 927.339 107.242 927.339 Q111.246 927.339 113.584 925.233 Q115.922 923.126 115.922 919.515 Q115.922 915.904 113.584 913.798 Q111.246 911.691 107.242 911.691 Q105.367 911.691 103.492 912.108 Q101.64 912.525 99.6956 913.404 L99.6956 896.043 Z\" fill=\"#000000\" fill-rule=\"evenodd\" fill-opacity=\"1\" /><path clip-path=\"url(#clip660)\" d=\"M63.2606 672.923 Q59.6495 672.923 57.8208 676.488 Q56.0152 680.029 56.0152 687.159 Q56.0152 694.265 57.8208 697.83 Q59.6495 701.372 63.2606 701.372 Q66.8948 701.372 68.7004 697.83 Q70.5291 694.265 70.5291 687.159 Q70.5291 680.029 68.7004 676.488 Q66.8948 672.923 63.2606 672.923 M63.2606 669.219 Q69.0707 669.219 72.1263 673.826 Q75.205 678.409 75.205 687.159 Q75.205 695.886 72.1263 700.492 Q69.0707 705.075 63.2606 705.075 Q57.4504 705.075 54.3717 700.492 Q51.3162 695.886 51.3162 687.159 Q51.3162 678.409 54.3717 673.826 Q57.4504 669.219 63.2606 669.219 Z\" fill=\"#000000\" fill-rule=\"evenodd\" fill-opacity=\"1\" /><path clip-path=\"url(#clip660)\" d=\"M83.4225 698.525 L88.3067 698.525 L88.3067 704.404 L83.4225 704.404 L83.4225 698.525 Z\" fill=\"#000000\" fill-rule=\"evenodd\" fill-opacity=\"1\" /><path clip-path=\"url(#clip660)\" d=\"M109.071 685.261 Q105.922 685.261 104.071 687.414 Q102.242 689.566 102.242 693.316 Q102.242 697.043 104.071 699.219 Q105.922 701.372 109.071 701.372 Q112.219 701.372 114.047 699.219 Q115.899 697.043 115.899 693.316 Q115.899 689.566 114.047 687.414 Q112.219 685.261 109.071 685.261 M118.353 670.608 L118.353 674.867 Q116.594 674.034 114.788 673.594 Q113.006 673.154 111.246 673.154 Q106.617 673.154 104.163 676.279 Q101.733 679.404 101.385 685.724 Q102.751 683.71 104.811 682.645 Q106.871 681.557 109.348 681.557 Q114.557 681.557 117.566 684.728 Q120.598 687.876 120.598 693.316 Q120.598 698.64 117.45 701.858 Q114.302 705.075 109.071 705.075 Q103.075 705.075 99.9039 700.492 Q96.7326 695.886 96.7326 687.159 Q96.7326 678.964 100.621 674.103 Q104.51 669.219 111.061 669.219 Q112.82 669.219 114.603 669.566 Q116.408 669.914 118.353 670.608 Z\" fill=\"#000000\" fill-rule=\"evenodd\" fill-opacity=\"1\" /><path clip-path=\"url(#clip660)\" d=\"M64.3254 446.724 Q60.7143 446.724 58.8856 450.289 Q57.0801 453.83 57.0801 460.96 Q57.0801 468.066 58.8856 471.631 Q60.7143 475.173 64.3254 475.173 Q67.9596 475.173 69.7652 471.631 Q71.5939 468.066 71.5939 460.96 Q71.5939 453.83 69.7652 450.289 Q67.9596 446.724 64.3254 446.724 M64.3254 443.02 Q70.1355 443.02 73.1911 447.627 Q76.2698 452.21 76.2698 460.96 Q76.2698 469.687 73.1911 474.293 Q70.1355 478.876 64.3254 478.876 Q58.5152 478.876 55.4365 474.293 Q52.381 469.687 52.381 460.96 Q52.381 452.21 55.4365 447.627 Q58.5152 443.02 64.3254 443.02 Z\" fill=\"#000000\" fill-rule=\"evenodd\" fill-opacity=\"1\" /><path clip-path=\"url(#clip660)\" d=\"M84.4873 472.326 L89.3715 472.326 L89.3715 478.205 L84.4873 478.205 L84.4873 472.326 Z\" fill=\"#000000\" fill-rule=\"evenodd\" fill-opacity=\"1\" /><path clip-path=\"url(#clip660)\" d=\"M98.3761 443.645 L120.598 443.645 L120.598 445.636 L108.052 478.205 L103.168 478.205 L114.973 447.58 L98.3761 447.58 L98.3761 443.645 Z\" fill=\"#000000\" fill-rule=\"evenodd\" fill-opacity=\"1\" /><path clip-path=\"url(#clip660)\" d=\"M63.5152 220.525 Q59.9041 220.525 58.0754 224.09 Q56.2699 227.631 56.2699 234.761 Q56.2699 241.867 58.0754 245.432 Q59.9041 248.974 63.5152 248.974 Q67.1494 248.974 68.955 245.432 Q70.7837 241.867 70.7837 234.761 Q70.7837 227.631 68.955 224.09 Q67.1494 220.525 63.5152 220.525 M63.5152 216.821 Q69.3254 216.821 72.3809 221.427 Q75.4596 226.011 75.4596 234.761 Q75.4596 243.488 72.3809 248.094 Q69.3254 252.677 63.5152 252.677 Q57.7051 252.677 54.6264 248.094 Q51.5708 243.488 51.5708 234.761 Q51.5708 226.011 54.6264 221.427 Q57.7051 216.821 63.5152 216.821 Z\" fill=\"#000000\" fill-rule=\"evenodd\" fill-opacity=\"1\" /><path clip-path=\"url(#clip660)\" d=\"M83.6771 246.126 L88.5614 246.126 L88.5614 252.006 L83.6771 252.006 L83.6771 246.126 Z\" fill=\"#000000\" fill-rule=\"evenodd\" fill-opacity=\"1\" /><path clip-path=\"url(#clip660)\" d=\"M108.746 235.594 Q105.413 235.594 103.492 237.376 Q101.594 239.159 101.594 242.284 Q101.594 245.409 103.492 247.191 Q105.413 248.974 108.746 248.974 Q112.08 248.974 114.001 247.191 Q115.922 245.386 115.922 242.284 Q115.922 239.159 114.001 237.376 Q112.103 235.594 108.746 235.594 M104.071 233.603 Q101.061 232.863 99.3715 230.802 Q97.7048 228.742 97.7048 225.779 Q97.7048 221.636 100.645 219.228 Q103.608 216.821 108.746 216.821 Q113.908 216.821 116.848 219.228 Q119.788 221.636 119.788 225.779 Q119.788 228.742 118.098 230.802 Q116.432 232.863 113.445 233.603 Q116.825 234.39 118.7 236.682 Q120.598 238.974 120.598 242.284 Q120.598 247.307 117.52 249.992 Q114.464 252.677 108.746 252.677 Q103.029 252.677 99.9502 249.992 Q96.8947 247.307 96.8947 242.284 Q96.8947 238.974 98.7928 236.682 Q100.691 234.39 104.071 233.603 M102.358 226.219 Q102.358 228.904 104.024 230.409 Q105.714 231.914 108.746 231.914 Q111.756 231.914 113.445 230.409 Q115.158 228.904 115.158 226.219 Q115.158 223.534 113.445 222.029 Q111.756 220.525 108.746 220.525 Q105.714 220.525 104.024 222.029 Q102.358 223.534 102.358 226.219 Z\" fill=\"#000000\" fill-rule=\"evenodd\" fill-opacity=\"1\" /><circle clip-path=\"url(#clip662)\" cx=\"1921.58\" cy=\"1445.72\" r=\"36\" fill=\"#000000\" fill-rule=\"evenodd\" fill-opacity=\"1\" stroke=\"none\"/>\n",
       "<circle clip-path=\"url(#clip662)\" cx=\"587.773\" cy=\"591.969\" r=\"36\" fill=\"#000000\" fill-rule=\"evenodd\" fill-opacity=\"1\" stroke=\"none\"/>\n",
       "<circle clip-path=\"url(#clip662)\" cx=\"850.147\" cy=\"258.863\" r=\"36\" fill=\"#000000\" fill-rule=\"evenodd\" fill-opacity=\"1\" stroke=\"none\"/>\n",
       "<circle clip-path=\"url(#clip662)\" cx=\"1694.01\" cy=\"1332.54\" r=\"36\" fill=\"#000000\" fill-rule=\"evenodd\" fill-opacity=\"1\" stroke=\"none\"/>\n",
       "<circle clip-path=\"url(#clip662)\" cx=\"1416.92\" cy=\"781.237\" r=\"36\" fill=\"#000000\" fill-rule=\"evenodd\" fill-opacity=\"1\" stroke=\"none\"/>\n",
       "<circle clip-path=\"url(#clip662)\" cx=\"1080.95\" cy=\"295.781\" r=\"36\" fill=\"#000000\" fill-rule=\"evenodd\" fill-opacity=\"1\" stroke=\"none\"/>\n",
       "<circle clip-path=\"url(#clip662)\" cx=\"1616.09\" cy=\"885.07\" r=\"36\" fill=\"#000000\" fill-rule=\"evenodd\" fill-opacity=\"1\" stroke=\"none\"/>\n",
       "<circle clip-path=\"url(#clip662)\" cx=\"1746.14\" cy=\"490.774\" r=\"36\" fill=\"#000000\" fill-rule=\"evenodd\" fill-opacity=\"1\" stroke=\"none\"/>\n",
       "<circle clip-path=\"url(#clip662)\" cx=\"963.322\" cy=\"87.9763\" r=\"36\" fill=\"#000000\" fill-rule=\"evenodd\" fill-opacity=\"1\" stroke=\"none\"/>\n",
       "<circle clip-path=\"url(#clip662)\" cx=\"791.78\" cy=\"1307.95\" r=\"36\" fill=\"#000000\" fill-rule=\"evenodd\" fill-opacity=\"1\" stroke=\"none\"/>\n",
       "</svg>\n"
      ]
     },
     "execution_count": 2,
     "metadata": {},
     "output_type": "execute_result"
    },
    {
     "name": "stderr",
     "output_type": "stream",
     "text": [
      "┌ Info: Precompiling GR_jll [d2c73de3-f751-5644-a686-071e5b155ba9]\n",
      "└ @ Base loading.jl:1423\n"
     ]
    }
   ],
   "source": [
    "X = rand(2,10)\n",
    "scatter(X[1,:],X[2,:],legend=:false,markersize=10, \n",
    "        markercolor=\"black\",aspect_ratio=:equal)"
   ]
  },
  {
   "cell_type": "markdown",
   "id": "d302fefe",
   "metadata": {},
   "source": [
    "Define some similarities of the form $s_m(x)=rx+\\delta_m$. The syntax describing each map here is ```Similarity(contraction, translation)```."
   ]
  },
  {
   "cell_type": "code",
   "execution_count": 3,
   "id": "dd38baa7",
   "metadata": {},
   "outputs": [],
   "source": [
    "s₁ = Similarity(1/3,[0.0,0.0])\n",
    "s₂ = Similarity(1/3,[2/3,0.0])\n",
    "s₃ = Similarity(1/3,[0.0,2/3])\n",
    "s₄ = Similarity(1/3,[2/3,2/3]);"
   ]
  },
  {
   "cell_type": "markdown",
   "id": "7af7cd62",
   "metadata": {},
   "source": [
    "An iterated function system (IFS) can be reprersented as an array of similarities:"
   ]
  },
  {
   "cell_type": "code",
   "execution_count": 4,
   "id": "da7508ea",
   "metadata": {},
   "outputs": [],
   "source": [
    "IFS = [s₁, s₂, s₃, s₄];"
   ]
  },
  {
   "cell_type": "markdown",
   "id": "f6100053",
   "metadata": {},
   "source": [
    "The full map is defined mathematically as $S(X) := \\cup_{m=1}^Ms_m(X)$. We can apply this iteratively to our original set of random points."
   ]
  },
  {
   "cell_type": "code",
   "execution_count": null,
   "id": "05075683",
   "metadata": {},
   "outputs": [],
   "source": [
    "X = full_map(IFS,X)\n",
    "scatter(X[1,:],X[2,:],legend=:false,markersize=0.5, \n",
    "        markercolor=\"black\",aspect_ratio=:equal)"
   ]
  },
  {
   "cell_type": "markdown",
   "id": "805cae40",
   "metadata": {},
   "source": [
    "## Example two: quadrature rule on an IFS attractor"
   ]
  },
  {
   "cell_type": "code",
   "execution_count": 5,
   "id": "976916c0",
   "metadata": {},
   "outputs": [],
   "source": [
    "Γ = Attractor(IFS);"
   ]
  },
  {
   "cell_type": "code",
   "execution_count": null,
   "id": "d384568a",
   "metadata": {},
   "outputs": [],
   "source": [
    "scatter(x[:,1],x[:,2],legend=:false,markersize=1, \n",
    "        markercolor=\"black\",aspect_ratio=:equal)"
   ]
  },
  {
   "cell_type": "markdown",
   "id": "c87a659a",
   "metadata": {},
   "source": [
    "## Example three: Acoustic scattering"
   ]
  },
  {
   "cell_type": "code",
   "execution_count": 6,
   "id": "113390b3",
   "metadata": {},
   "outputs": [],
   "source": [
    "h = 0.01\n",
    "x,w = barycentre_rule(Γ,h);"
   ]
  },
  {
   "cell_type": "code",
   "execution_count": 7,
   "id": "3ea639f1",
   "metadata": {},
   "outputs": [],
   "source": [
    "k = 53 # wavenumber\n",
    "d = [0 0 -1] # incoming wave direction\n",
    "f(x) = exp(im*k*(d[1:2]'*x)); # RHS data"
   ]
  },
  {
   "cell_type": "code",
   "execution_count": 8,
   "id": "dd8be622",
   "metadata": {},
   "outputs": [],
   "source": [
    "S = SingleLayer(Γ, k); # single layer integral operator defined on fractal Γ"
   ]
  },
  {
   "cell_type": "code",
   "execution_count": 9,
   "id": "084d11d2",
   "metadata": {},
   "outputs": [
    {
     "name": "stderr",
     "output_type": "stream",
     "text": [
      "\u001b[32mConstructing BEM system 100%|███████████████████████████| Time: 0:00:06\u001b[39m\n"
     ]
    }
   ],
   "source": [
    "h_BEM = 0.01\n",
    "h_QUAD = 0.001\n",
    "Sₕ = DiscreteBIO(S,h_BEM,h_QUAD); #discretise BIO"
   ]
  },
  {
   "cell_type": "markdown",
   "id": "b7866148",
   "metadata": {},
   "source": [
    "The below is a temporary fix for Julia 1.7, please ignore... details are [here](https://github.com/JuliaLang/julia/issues/43301) and [here](https://github.com/JuliaLang/julia/issues/43008)"
   ]
  },
  {
   "cell_type": "code",
   "execution_count": null,
   "id": "c60070ca",
   "metadata": {},
   "outputs": [],
   "source": [
    "using LinearAlgebra\n",
    "BLAS.set_num_threads(1)"
   ]
  },
  {
   "cell_type": "code",
   "execution_count": 10,
   "id": "37a10f10",
   "metadata": {},
   "outputs": [],
   "source": [
    "ϕₕ = Sₕ\\f; # solve the discrete problem"
   ]
  },
  {
   "cell_type": "markdown",
   "id": "5104bf40",
   "metadata": {},
   "source": [
    "The rest of the code is just making a slice plot..."
   ]
  },
  {
   "cell_type": "code",
   "execution_count": 11,
   "id": "a6799479",
   "metadata": {},
   "outputs": [],
   "source": [
    "h=0.01 # adujust this for more acurate / faster plots\n",
    "z_val = - 0.1\n",
    "x_1 = [j for j=0:h:1] # !!! ADJUST THESE IF fractal is outside [0,1]²\n",
    "x_2 = [j for j=0:h:1]\n",
    "X_1 = repeat(x_1, outer=(1,length(x_2)))\n",
    "X_2 = copy(transpose(repeat(x_2, outer=(1,length(x_1)))))\n",
    "N = length(x_1)*length(x_2)\n",
    "X = [reshape(X_1, (N,)) reshape(X_2, (N,)) z_val*ones(Float64,N)]\n",
    "uˢ = - single_layer_potential(Γ,k,ϕₕ,X)\n",
    "uⁱ(x) = exp.(im*k*(x*d'))[:] # define inc field in domain\n",
    "uᵗ = uⁱ(X) + uˢ\n",
    "vals = reshape(uᵗ,(length(x_1),length(x_2)));"
   ]
  },
  {
   "cell_type": "code",
   "execution_count": null,
   "id": "64eee8f4",
   "metadata": {},
   "outputs": [],
   "source": [
    "heatmap(x_1,x_2,transpose(abs.(uˢ)),  aspect_ratio = 1, \n",
    "    title=L\"|u^s|\", legend=true, c = :thermal)"
   ]
  },
  {
   "cell_type": "code",
   "execution_count": null,
   "id": "b176b274",
   "metadata": {},
   "outputs": [],
   "source": []
  }
 ],
 "metadata": {
  "kernelspec": {
   "display_name": "Julia 1.7.2",
   "language": "julia",
   "name": "julia-1.7"
  },
  "language_info": {
   "file_extension": ".jl",
   "mimetype": "application/julia",
   "name": "julia",
   "version": "1.7.2"
  }
 },
 "nbformat": 4,
 "nbformat_minor": 5
}
