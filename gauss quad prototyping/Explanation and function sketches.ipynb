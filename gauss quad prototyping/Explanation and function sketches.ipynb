{
 "cells": [
  {
   "cell_type": "code",
   "execution_count": 1,
   "id": "5aa285d8",
   "metadata": {},
   "outputs": [],
   "source": [
    "using IFSintegrals"
   ]
  },
  {
   "cell_type": "markdown",
   "id": "1a1e53e0",
   "metadata": {},
   "source": [
    "# IMPORTANT NOTICE\n",
    "This was the original prototype for the code. There are a few bugs in here, which were removed in ```Jacobi_matrices.jl```\n",
    "\n",
    "# Lemma 1"
   ]
  },
  {
   "cell_type": "markdown",
   "id": "aaa0daf7",
   "metadata": {},
   "source": [
    "### Lemma 1 details"
   ]
  },
  {
   "cell_type": "markdown",
   "id": "263c6b50",
   "metadata": {},
   "source": [
    "From the three-term recurrence relation, we have\n",
    "$$\n",
    "r_np_n(x) = \\left(x-A_{n-1}\\right)p_{n-1}(x) - r_{n-1}p_{n-2}(x),\n",
    "$$\n",
    "from which it follows immediately that\n",
    "$$\n",
    "r_np_n(\\phi_i(x)) = \\left(\\phi_i(x)-A_{n-1}\\right)p_{n-1}(\\phi_i(x)) - r_{n-1}p_{n-2}(\\phi_i(x)),\n",
    "$$\n",
    "and then assuming we have the coefficients for lower $n$'s, we can write\n",
    "$$\n",
    "\\begin{align}\n",
    "r_np_n(\\phi_i(x)) &= \\left((\\delta_ix+\\beta_i)-A_{n-1}\\right)p_{n-1}(\\phi_i(x)) - r_{n-1}p_{n-2}(\\phi_i(x))\\\\\n",
    " &= \\left(\\delta_ix+\\beta_i-A_{n-1}\\right)\\sum_{\\ell=0}^{n-1}\\Gamma_{i,\\ell}^{n-1}p_\\ell(x) - r_{n-1}\\sum_{\\ell=0}^{n-2}\\Gamma_{i,\\ell}^{n-2}p_\\ell(x)\\\\\n",
    " &= \\left(\\beta_i-A_{n-1}\\right)\\sum_{\\ell=0}^{n-1}\\Gamma_{i,\\ell}^{n-1}p_\\ell(x) +\\delta_ix\\sum_{\\ell=0}^{n-1}\\Gamma_{i,\\ell}^{n-1}p_\\ell(x) - r_{n-1}\\sum_{\\ell=0}^{n-2}\\Gamma_{i,\\ell}^{n-2}p_\\ell(x)\n",
    "\\end{align}\n",
    "$$\n",
    "and then taking inner products gives\n",
    "$$\n",
    "\\begin{align}\n",
    "\\left(r_np_n\\circ\\phi_i,p_j\\right) &= \\left(\\left(\\delta_i-A_{n-1}\\right)\\sum_{\\ell=0}^{n-1}\\Gamma_{i,\\ell}^{n-1}p_\\ell(x) +\\delta_ix\\sum_{\\ell=0}^{n-1}\\Gamma_{i,\\ell}^{n-1}p_\\ell(x) - r_{n-1}\\sum_{\\ell=0}^{n-2}\\Gamma_{i,\\ell}^{n-2}p_\\ell(x),p_j(x)\\right)\\\\\n",
    "&=\\left(\\beta_i-A_{n-1}\\right)\\sum_{\\ell=0}^{n-1}\\Gamma_{i,\\ell}^{n-1}(p_\\ell,p_j) +\\delta_i\\sum_{\\ell=0}^{n-1}\\Gamma_{i,\\ell}^{n-1}(xp_\\ell,p_j) - r_{n-1}\\sum_{\\ell=0}^{n-2}\\Gamma_{i,\\ell}^{n-2}(p_\\ell,p_j).\\\\\n",
    "\\end{align}\n",
    "$$\n",
    "Now assuming that $j\\leq n-2$, we can write\n",
    "$$\n",
    "\\begin{align}\n",
    "r_n\\left(p_n\\circ\\phi_i,p_j\\right) =\\left(\\beta_i-A_{n-1}\\right)\\Gamma_{i,j}^{n-1} +\\delta_i\\sum_{\\ell=0}^{n-1}\\Gamma_{i,\\ell}^{n-1}(p_\\ell(x)x,p_j(x)) - r_{n-1}\\Gamma_{i,j}^{n-2}.\n",
    "\\end{align}\n",
    "$$\n",
    "Now focus on $(xp_\\ell,p_j)$. There are four cases, which follow by orthogonality:\n",
    "$$\n",
    "(xp_\\ell,p_j) = \\gamma_{\\ell,j}:=\\left\\{\\begin{array}{cc}\n",
    "r_j=r_\\ell & j=\\ell\\\\\n",
    "r_\\ell & \\ell=j-1\\\\\n",
    "r_j & j=\\ell-1\\\\\n",
    "0 & \\text{otherwise}\n",
    "\\end{array}\\right.\n",
    "$$\n",
    "The cases for $j=n-1$ follows similarly, removing terms as required. For $j=n$, we have\n",
    "$$\n",
    "r_n\\left(p_n\\circ\\phi_i,p_n\\right) = \\delta_i\\Gamma_{i,n-1}^{n-1}(xp_{n-1},p_n)\n",
    "$$\n",
    "\n",
    "we have $r_n\\left(p_n\\circ\\phi_i,p_n\\right) = \\delta_i\\Gamma^{n-1}_{i,n-1}r_n$, hence\n",
    "$$\n",
    "\\left(p_n\\circ\\phi_i,p_n\\right) = \\delta_i\\Gamma^{n-1}_{i,n-1}\n",
    "$$\n",
    "perhaps this is what is meant by _in passage_ in the proof of Lemma 1. But the $r_n$ term is needed for lower $j$, as we must divide through by it, and it won't cancel so neatly."
   ]
  },
  {
   "cell_type": "markdown",
   "id": "49c2db5e",
   "metadata": {},
   "source": [
    "### Lemma 1 spin off\n",
    "Immediately after Lemma 1, there is the statement that an alternative recursive process would lead to\n",
    "$$\n",
    "\\tilde{p}_n(\\phi_i(x)) = \\tilde{\\Gamma}_{i,n}^n\\tilde{p}_n(x) + \\sum_{\\ell=0}^{n-1}\\tilde{\\Gamma}_{i,\\ell}p_{\\ell}(x),\n",
    "$$\n",
    "where $\\tilde p_n := r_np_n$.\n",
    "\n",
    "In the above, we could equivalently write\n",
    "$$\n",
    "\\left(\\tilde{p}_n\\circ\\phi_i,\\tilde{p}_n\\right) = \\delta_i\\Gamma_{i,n-1}^{n-1}\\frac{(xp_{n-1},\\tilde{p}_n)}{(\\tilde{p}_n,\\tilde{p}_n)} = \\delta_i\\Gamma^{n-1}_{i,n-1},\n",
    "$$\n",
    "and\n",
    "$$\n",
    "\\begin{align}\n",
    "\\left(\\tilde{p}_n\\circ\\phi_i,p_j\\right) =\\left(\\delta_i-A_{n-1}\\right)\\Gamma_{i,j}^{n-1} +\\delta_i\\sum_{\\ell=0}^{n-1}\\Gamma_{i,\\ell}^{n-1}(p_\\ell(x)x,p_j(x)) - r_{n-1}\\Gamma_{i,j}^{n-2},\n",
    "\\end{align}\n",
    "$$\n",
    "so the process in the above block can be used to determine coefficients which don't involve $r_n$. It would have been much simpler to write\n",
    "$\\tilde\\Gamma_{in}^n:=\\Gamma_{in}^n$ and $\\tilde{\\Gamma}_{i\\ell}^n:={r_n}{\\Gamma_{i\\ell}^n}$ for $\\ell=0,\\ldots,n-1$."
   ]
  },
  {
   "cell_type": "code",
   "execution_count": 2,
   "id": "f0fa72cb",
   "metadata": {},
   "outputs": [
    {
     "data": {
      "text/plain": [
       "get_modified_coeffs_from_coeffs (generic function with 1 method)"
      ]
     },
     "execution_count": 2,
     "metadata": {},
     "output_type": "execute_result"
    }
   ],
   "source": [
    "#Now let's try and implement the above#\n",
    "function get_modified_coeffs_from_coeffs(coeffs_one_below::Vector{Float64},coeffs_two_below::Vector{Float64},A::Vector{Float64},r::Vector{Float64},sₘ::Similarity)\n",
    "   # rule of thumb: square bracket indices should always be incremented by one compared with what's written above,\n",
    "    # to account for the zero index\n",
    "    \n",
    "    n = length(coeffs_one_below) # one more because of the zeroth entry, one less because we're incrementing\n",
    "    modified_coeffs = zeros(Float64,n+1)\n",
    "    \n",
    "    function γ(ℓ::Integer,j::Integer)\n",
    "        if ℓ==j\n",
    "            return A[ℓ+1]*coeffs_one_below[j]\n",
    "        elseif ℓ==j-1\n",
    "            return r[ℓ+1]*coeffs_one_below[j]\n",
    "        elseif j==ℓ-1\n",
    "            return r[j+1]*coeffs_one_below[j]\n",
    "        else\n",
    "            return 0.0\n",
    "        end\n",
    "    end\n",
    "        \n",
    "    function get_trickier_sum(j)\n",
    "        trickier_sum = 0.0\n",
    "        for ℓ=max(0,j-1):min(n-1,j+1)\n",
    "            trickier_sum += γ(ℓ,j)\n",
    "        end\n",
    "        return trickier_sum\n",
    "    end\n",
    "        \n",
    "    for j = 0:(n-2)\n",
    "        modified_coeffs[j+1] = (sₘ.δ-A[n])*coeffs_one_below[j] + sₘ.r*get_trickier_sum(j+1) - r[n]*coeffs_two_below[j]\n",
    "    end\n",
    "    \n",
    "    # now deal with j = n-1\n",
    "    modified_coeffs[n] = (sₘ.δ-A[n])*coeffs_one_below[n] + sₘ.r*get_trickier_sum(n)\n",
    "    \n",
    "    # now deal with j = n, which is not in orthanormal function\n",
    "    modified_coeffs[n+1] = sₘ.r*coeffs_one_below[n]\n",
    "    \n",
    "    return modified_coeffs\n",
    "end"
   ]
  },
  {
   "cell_type": "markdown",
   "id": "e21718ca",
   "metadata": {},
   "source": [
    "Syntax reminder:\n",
    "```get_modified_coeffs_from_coeffs(coeffs_one_below::Vector{Float64},coeffs_two_below::Vector{Float64},A::Vector{Float64},r::Vector{Float64},sₘ::Similarity)```"
   ]
  },
  {
   "cell_type": "markdown",
   "id": "5b486570",
   "metadata": {},
   "source": [
    "Now let's try it out with some randomish data:"
   ]
  },
  {
   "cell_type": "code",
   "execution_count": 3,
   "id": "2d0cb0ff",
   "metadata": {},
   "outputs": [
    {
     "data": {
      "text/plain": [
       "1-element Vector{Float64}:\n",
       " 1.0"
      ]
     },
     "execution_count": 3,
     "metadata": {},
     "output_type": "execute_result"
    }
   ],
   "source": [
    "φᵢ = Similarity(1/3,0.4)\n",
    "A = [1.0]\n",
    "r = [0.0]\n",
    "Γ⁰ = [1.0]"
   ]
  },
  {
   "cell_type": "code",
   "execution_count": 4,
   "id": "99965704",
   "metadata": {},
   "outputs": [
    {
     "data": {
      "text/plain": [
       "2-element Vector{Float64}:\n",
       " -0.6\n",
       "  0.3333333333333333"
      ]
     },
     "execution_count": 4,
     "metadata": {},
     "output_type": "execute_result"
    }
   ],
   "source": [
    "get_modified_coeffs_from_coeffs(Γ⁰, Γ⁰, A, r, φᵢ)"
   ]
  },
  {
   "cell_type": "markdown",
   "id": "409b62c7",
   "metadata": {},
   "source": [
    "# Lemma 2"
   ]
  },
  {
   "cell_type": "markdown",
   "id": "1922d644",
   "metadata": {},
   "source": [
    "There is a hidden step here, but fortunately more similar to what we've seen before. Rearranging (27) gives\n",
    "\n",
    "$$\n",
    "\\begin{align}\n",
    "r_n^2-\\sum_{i=1}^M\\pi_iD_i &= \\sum_{i=1}^M\\pi_i(B_i+C_i)\\\\\n",
    "r_n^2-r_n^2\\sum_{i=1}^M\\pi_i\\delta_i\\tilde{\\Gamma}^n_{i,n}\\Gamma^{n-1}_{i,n-1} &= \\sum_{i=1}^M\\pi_i(B_i+C_i)\\\\\n",
    "r_n^2\\left(1-\\sum_{i=1}^M\\pi_i\\delta_i\\tilde{\\Gamma}^n_{i,n}\\Gamma^{n-1}_{i,n-1}\\right) &= \\sum_{i=1}^M\\pi_i(B_i+C_i)\\\\\n",
    "r_n &=\\sqrt{\\frac{\\sum_{i=1}^M\\pi_i(B_i+C_i)}{1-\\sum_{i=1}^M\\pi_i\\delta_i\\tilde{\\Gamma}^n_{i,n}\\Gamma^{n-1}_{i,n-1}}}\\\\\n",
    "r_n &=\\sqrt{\\frac{\\sum_{i=1}^M\\pi_i(B_i+C_i)}{1-\\sum_{i=1}^M\\pi_i\\tilde{D}_i}}\n",
    "\\end{align}\n",
    "$$\n",
    "where $\\tilde{D}_i:= \\delta_i\\tilde{\\Gamma}^n_{i,n}\\Gamma^{n-1}_{i,n-1}$"
   ]
  },
  {
   "cell_type": "code",
   "execution_count": 16,
   "id": "7cdf3420",
   "metadata": {},
   "outputs": [
    {
     "data": {
      "text/plain": [
       "get_rₙ (generic function with 1 method)"
      ]
     },
     "execution_count": 16,
     "metadata": {},
     "output_type": "execute_result"
    }
   ],
   "source": [
    "function get_rₙ(modified_coeffs::Vector{Vector{Float64}}, coeffs_one_below::Vector{Vector{Float64}}, A::Vector{Float64}, Γ::SelfSimilarFractal)\n",
    "   n = length(modified_coeffs::Vector{Vector{Float64}})+1\n",
    "    M = length(Γ.IFS)\n",
    "    B = zeros(M)\n",
    "    C = zeros(M)\n",
    "    D = zeros(M)\n",
    "    \n",
    "    for i=1:M\n",
    "        for ℓ=0:(n-1)\n",
    "           B[i] += (Γ.IFS[i].δ + Γ.IFS[i].r*A[ℓ+1])*modified_coeffs[i][ℓ+1]*coeffs_one_below[i][ℓ+1]\n",
    "        end\n",
    "        for ℓ=0:(n-2)\n",
    "           C[i] +=  Γ.IFS[i].r*r[ℓ+2]*(modified_coeffs[i][ℓ+1]*coeffs_one_below[i][ℓ+2] + modified_coeffs[i][ℓ+2]*coeffs_one_below[i][ℓ+1])\n",
    "        end\n",
    "        D_nominator[m] = Γ.IFS[i].r*modified_coeffs[i][n+1]*coeffs_one_below[i][ℓ+1]\n",
    "    end\n",
    "    \n",
    "    rₙ² = (Γ.weights'*(B+C)) / (1-(Γ.weights'*D_nominator))\n",
    "    \n",
    "    return sqrt(rₙ²)\n",
    "end"
   ]
  },
  {
   "cell_type": "markdown",
   "id": "cdba83b6",
   "metadata": {},
   "source": [
    "# Lemma 3\n",
    "As with Lemma 2, a tiny bit of rearranging is necessary, from (32):\n",
    "$$\n",
    "\\begin{align}\n",
    "    A_n &= \\sum_{i=1}^M\\pi_i\\left[\\sum_{m=0}^n(\\Gamma_{i,m}^n)^2(\\beta_i+\\delta_iA_m) + \\sum_{m=0}^{n-1}\\Gamma^{n}_{i,m}\\Gamma^n_{i,m+1}\\delta_i(r_m+r_{m+1})\\right]\\\\\n",
    "        A_n &= \\sum_{i=1}^M\\pi_i\\left[\\sum_{m=0}^{n-1}(\\Gamma_{i,m}^n)^2(\\beta_i+\\delta_iA_m) + \\sum_{m=0}^{n-1}\\Gamma^{n}_{i,m}\\Gamma^n_{i,m+1}\\delta_i(r_m+r_{m+1})\\right] + \\sum_{i=1}^M\\pi_i(\\Gamma_{i,n}^n)^2(\\beta_i+\\delta_iA_n)\\\\\n",
    "        &= \\sum_{i=1}^M\\pi_i\\left[\\sum_{m=0}^{n-1}(\\Gamma_{i,m}^n)^2(\\beta_i+\\delta_iA_m) + \\sum_{m=0}^{n-1}\\Gamma^{n}_{i,m}\\Gamma^n_{i,m+1}\\delta_i(r_m+r_{m+1})\\right] + \\sum_{i=1}^M\\pi_i(\\Gamma_{i,n}^n)^2\\delta_iA_n + \\sum_{i=1}^M\\pi_i(\\Gamma_{i,n}^n)^2\\beta_i\\\\\n",
    "         A_n - A_n\\sum_{i=1}^M\\pi_i(\\Gamma_{i,n}^n)^2\\delta_i &=\\sum_{i=1}^M\\pi_i\\left[\\sum_{m=0}^{n-1}(\\Gamma_{i,m}^n)^2(\\beta_i+\\delta_iA_m) + \\sum_{m=0}^{n-1}\\Gamma^{n}_{i,m}\\Gamma^n_{i,m+1}\\delta_i(r_m+r_{m+1})\\right] + \\sum_{i=1}^M\\pi_i(\\Gamma_{i,n}^n)^2\\beta_i\\\\\n",
    "         A_n\\left(1 - \\sum_{i=1}^M\\pi_i(\\Gamma_{i,n}^n)^2\\delta_i\\right) &=\\sum_{i=1}^M\\pi_i\\left[\\sum_{m=0}^{n-1}(\\Gamma_{i,m}^n)^2(\\beta_i+\\delta_iA_m) + \\sum_{m=0}^{n-1}\\Gamma^{n}_{i,m}\\Gamma^n_{i,m+1}\\delta_i(r_m+r_{m+1})\\right] + \\sum_{i=1}^M\\pi_i(\\Gamma_{i,n}^n)^2\\beta_i\\\\\n",
    "         A_n &=\\left(1 - \\sum_{i=1}^M\\pi_i(\\Gamma_{i,n}^n)^2\\delta_i\\right)^{-1}\\left(\\sum_{i=1}^M\\pi_i\\left[(\\Gamma_{i,n}^n)^2\\beta_i+\\sum_{m=0}^{n-1}(\\Gamma_{i,m}^n)^2(\\beta_i+\\delta_iA_m) + \\Gamma^{n}_{i,m}\\Gamma^n_{i,m+1}\\delta_i(r_m+r_{m+1})\\right] \\right)\n",
    "\\end{align}\n",
    "$$"
   ]
  },
  {
   "cell_type": "code",
   "execution_count": 6,
   "id": "87671706",
   "metadata": {},
   "outputs": [
    {
     "data": {
      "text/plain": [
       "get_Aₙ (generic function with 1 method)"
      ]
     },
     "execution_count": 6,
     "metadata": {},
     "output_type": "execute_result"
    }
   ],
   "source": [
    "function get_Aₙ(coeffs_this_level::Vector{Vector{Float64}}, A::Vector{Float64}, r::Vector{Float64}, Γ::SelfSimilarFractal)\n",
    "    \n",
    "    n = length(coeffs_this_level)+1\n",
    "    big_sum = 0.0\n",
    "    denominator = 1.0\n",
    "    for i=1:M\n",
    "        big_sum += coeffs_this_level[n+1]^2*IFS[i].δ\n",
    "        for m=0:(n-1)\n",
    "            big_sum += coeffs_this_level[m+1]^2*(IFS[i].δ+IFS[i].r*A[m+1]) + coeffs_this_level[m+1]*coeffs_this_level[m+2]*IFS[m].r*(r[m+1]+r[m+2])\n",
    "        end\n",
    "        big_sum *= Γ.weights[i]\n",
    "        denominator += Γ.weights[i]*coeffs_this_level[m+1]^2*Γ.IFS[i].r\n",
    "    end\n",
    "    return big_sum/(1-denominator)\n",
    "end"
   ]
  },
  {
   "cell_type": "markdown",
   "id": "8f20e90f",
   "metadata": {},
   "source": [
    "# Now attempt to glue this shitshow together.\n",
    "\n",
    "Need to restrict to fractals $\\Gamma\\subset\\mathbb{R}$."
   ]
  },
  {
   "cell_type": "code",
   "execution_count": 12,
   "id": "401d162b",
   "metadata": {},
   "outputs": [
    {
     "data": {
      "text/plain": [
       "get_Jacobi_matrix (generic function with 2 methods)"
      ]
     },
     "execution_count": 12,
     "metadata": {},
     "output_type": "execute_result"
    }
   ],
   "source": [
    "function get_Jacobi_matrix(Γ::Attractor,N::Int64)\n",
    "    # initialisation\n",
    "   A = [Γ.measure*Γ.barycentre] # checks out, given def'n of barycentre, should be ∫_Γ x dμ(x)\n",
    "    r = [0.0]\n",
    "    M = length(Γ.IFS)\n",
    "    coeffs_one_below = [[1.0] for _=1:M]\n",
    "    coeffs_two_below = [[0.0] for _=1:M]\n",
    "    \n",
    "    # iteration\n",
    "    for n=1:N #we've done n=0 above\n",
    "        # initialise this level\n",
    "        coeffs_this_level = [zeros(n+1) for _=1:M]\n",
    "        \n",
    "        # step one\n",
    "        modified_coeffs = [zeros(n+1) for _=1:M]\n",
    "        for m=1:M\n",
    "            modified_coeffs[m] = get_modified_coeffs_from_coeffs(coeffs_one_below[m], coeffs_two_below[m], A, r, Γ.IFS[m])\n",
    "        end\n",
    "        \n",
    "        # step two\n",
    "        rₙ = get_rₙ(modified_coeffs, coeffs_one_below, A, Γ)\n",
    "        push!(r,rₙ)\n",
    "        \n",
    "        # step three\n",
    "        for m=1:M\n",
    "            coeffs_this_level[m][1:n] = modified_coeffs[m][1:n]/r[n+1]\n",
    "            coeffs_this_level[m][n+1] = modified_coeffs[m][n+1]\n",
    "        end\n",
    "        \n",
    "        # step four\n",
    "        Aₙ = get_Aₙ(coeffs_this_level, A, r, Γ)\n",
    "        push!(A,Aₙ)\n",
    "        \n",
    "        coeffs_two_below = coeffs_one_below\n",
    "        coeffs_one_below = coeffs_this_level\n",
    "        \n",
    "    end\n",
    "    \n",
    "    # now make the Jacobi matrix\n",
    "    J = zeros(Float64,N,N)\n",
    "    for i=0:(N-1)\n",
    "       J[i+1,i+1] = A[i+1]\n",
    "        J[i+1,i] = r[i+2]\n",
    "        J[i,i+1] = r[i+2]\n",
    "    end\n",
    "    J[N,N] = A[N+1]\n",
    "    \n",
    "    return J\n",
    "end"
   ]
  },
  {
   "cell_type": "code",
   "execution_count": 17,
   "id": "4003642c",
   "metadata": {},
   "outputs": [
    {
     "ename": "LoadError",
     "evalue": "BoundsError: attempt to access 1-element Vector{Float64} at index [2]",
     "output_type": "error",
     "traceback": [
      "BoundsError: attempt to access 1-element Vector{Float64} at index [2]",
      "",
      "Stacktrace:",
      " [1] getindex",
      "   @ ./array.jl:861 [inlined]",
      " [2] get_rₙ(modified_coeffs::Vector{Vector{Float64}}, coeffs_one_below::Vector{Vector{Float64}}, A::Vector{Float64}, Γ::Attractor{Float64, Float64})",
      "   @ Main ./In[16]:10",
      " [3] get_Jacobi_matrix(Γ::Attractor{Float64, Float64}, N::Int64)",
      "   @ Main ./In[12]:21",
      " [4] top-level scope",
      "   @ In[17]:2",
      " [5] eval",
      "   @ ./boot.jl:373 [inlined]",
      " [6] include_string(mapexpr::typeof(REPL.softscope), mod::Module, code::String, filename::String)",
      "   @ Base ./loading.jl:1196"
     ]
    }
   ],
   "source": [
    "Γ = CantorSet()\n",
    "get_Jacobi_matrix(Γ,2)"
   ]
  },
  {
   "cell_type": "code",
   "execution_count": null,
   "id": "5f4ee24a",
   "metadata": {},
   "outputs": [],
   "source": []
  }
 ],
 "metadata": {
  "kernelspec": {
   "display_name": "Julia 1.7.2",
   "language": "julia",
   "name": "julia-1.7"
  },
  "language_info": {
   "file_extension": ".jl",
   "mimetype": "application/julia",
   "name": "julia",
   "version": "1.7.2"
  }
 },
 "nbformat": 4,
 "nbformat_minor": 5
}
