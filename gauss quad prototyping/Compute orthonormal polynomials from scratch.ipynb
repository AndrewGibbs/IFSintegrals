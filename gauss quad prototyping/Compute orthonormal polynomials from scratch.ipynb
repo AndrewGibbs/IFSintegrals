{
 "cells": [
  {
   "cell_type": "code",
   "execution_count": 1,
   "id": "5ebe78c5",
   "metadata": {},
   "outputs": [],
   "source": [
    "using IFSintegrals"
   ]
  },
  {
   "cell_type": "code",
   "execution_count": 2,
   "id": "3c15ba64",
   "metadata": {},
   "outputs": [
    {
     "data": {
      "text/plain": [
       "IP (generic function with 1 method)"
      ]
     },
     "execution_count": 2,
     "metadata": {},
     "output_type": "execute_result"
    }
   ],
   "source": [
    "Γ = CantorSet()\n",
    "x,w = barycentre_rule(Γ,0.000000001);\n",
    "IP(f,g) = w'*(f.(x).*g.(x))"
   ]
  },
  {
   "cell_type": "code",
   "execution_count": 4,
   "id": "9f4a1190",
   "metadata": {},
   "outputs": [
    {
     "data": {
      "text/plain": [
       "r₁p₁ (generic function with 1 method)"
      ]
     },
     "execution_count": 4,
     "metadata": {},
     "output_type": "execute_result"
    }
   ],
   "source": [
    "p₀(x) = 1\n",
    "r₀ = 0\n",
    "A₀ = w'*x\n",
    "r₁p₁(x) = x-A₀"
   ]
  },
  {
   "cell_type": "code",
   "execution_count": 5,
   "id": "0502b700",
   "metadata": {},
   "outputs": [
    {
     "data": {
      "text/plain": [
       "p₁ (generic function with 1 method)"
      ]
     },
     "execution_count": 5,
     "metadata": {},
     "output_type": "execute_result"
    }
   ],
   "source": [
    "r₁ = sqrt(IP(r₁p₁,r₁p₁))\n",
    "p₁(x) = r₁p₁(x)/r₁"
   ]
  },
  {
   "cell_type": "code",
   "execution_count": 6,
   "id": "8d1833f8",
   "metadata": {},
   "outputs": [
    {
     "data": {
      "text/plain": [
       "0.4999999999999991"
      ]
     },
     "execution_count": 6,
     "metadata": {},
     "output_type": "execute_result"
    }
   ],
   "source": [
    "A₀"
   ]
  },
  {
   "cell_type": "code",
   "execution_count": 18,
   "id": "18413bfe",
   "metadata": {},
   "outputs": [
    {
     "data": {
      "text/plain": [
       "0.500000000000001"
      ]
     },
     "execution_count": 18,
     "metadata": {},
     "output_type": "execute_result"
    }
   ],
   "source": [
    "A₁ = IP(x->x*p₁(x),p₁)"
   ]
  },
  {
   "cell_type": "code",
   "execution_count": 17,
   "id": "f8d30aaf",
   "metadata": {},
   "outputs": [
    {
     "data": {
      "text/plain": [
       "0.35355339059327384"
      ]
     },
     "execution_count": 17,
     "metadata": {},
     "output_type": "execute_result"
    }
   ],
   "source": [
    "r₁"
   ]
  },
  {
   "cell_type": "code",
   "execution_count": 8,
   "id": "958b80b8",
   "metadata": {},
   "outputs": [
    {
     "data": {
      "text/plain": [
       "0.9999999999999999"
      ]
     },
     "execution_count": 8,
     "metadata": {},
     "output_type": "execute_result"
    }
   ],
   "source": [
    "IP(p₁,p₁)"
   ]
  },
  {
   "cell_type": "code",
   "execution_count": 9,
   "id": "8d87d1ae",
   "metadata": {},
   "outputs": [
    {
     "data": {
      "text/plain": [
       "2.7335989374877023e-15"
      ]
     },
     "execution_count": 9,
     "metadata": {},
     "output_type": "execute_result"
    }
   ],
   "source": [
    "IP(p₁,p₀)"
   ]
  },
  {
   "cell_type": "code",
   "execution_count": 10,
   "id": "35ab15f6",
   "metadata": {},
   "outputs": [
    {
     "data": {
      "text/plain": [
       "1.0"
      ]
     },
     "execution_count": 10,
     "metadata": {},
     "output_type": "execute_result"
    }
   ],
   "source": [
    "IP(p₀,p₀)"
   ]
  },
  {
   "cell_type": "markdown",
   "id": "32834a7b",
   "metadata": {},
   "source": [
    "$\\tilde{\\Gamma}^{1}_{1,0}$ ="
   ]
  },
  {
   "cell_type": "code",
   "execution_count": 11,
   "id": "fbdaf94d",
   "metadata": {},
   "outputs": [
    {
     "data": {
      "text/plain": [
       "-0.3333333333333325"
      ]
     },
     "execution_count": 11,
     "metadata": {},
     "output_type": "execute_result"
    }
   ],
   "source": [
    "s₁(x) = sim_map(Γ.IFS[1],x)\n",
    "IP(x->r₁p₁(s₁(x)),p₀)"
   ]
  },
  {
   "cell_type": "markdown",
   "id": "4bceb55f",
   "metadata": {},
   "source": [
    "$\\tilde{\\Gamma}^{1}_{2,0}$ ="
   ]
  },
  {
   "cell_type": "code",
   "execution_count": 12,
   "id": "7a6c2a2a",
   "metadata": {},
   "outputs": [
    {
     "data": {
      "text/plain": [
       "0.33333333333333465"
      ]
     },
     "execution_count": 12,
     "metadata": {},
     "output_type": "execute_result"
    }
   ],
   "source": [
    "s₂(x) = sim_map(Γ.IFS[2],x)\n",
    "IP(x->r₁p₁(s₂(x)),p₀)"
   ]
  },
  {
   "cell_type": "markdown",
   "id": "5e486488",
   "metadata": {},
   "source": [
    "$\\tilde{\\Gamma}^{1}_{1,1}$ ="
   ]
  },
  {
   "cell_type": "code",
   "execution_count": 13,
   "id": "a050bb66",
   "metadata": {},
   "outputs": [
    {
     "data": {
      "text/plain": [
       "0.33333333333333"
      ]
     },
     "execution_count": 13,
     "metadata": {},
     "output_type": "execute_result"
    }
   ],
   "source": [
    "IP(x->p₁(s₁(x)),p₁)"
   ]
  },
  {
   "cell_type": "markdown",
   "id": "8d53a0ef",
   "metadata": {},
   "source": [
    "$\\tilde{\\Gamma}^{1}_{2,1}$ ="
   ]
  },
  {
   "cell_type": "code",
   "execution_count": 14,
   "id": "e3691cc2",
   "metadata": {},
   "outputs": [
    {
     "data": {
      "text/plain": [
       "0.3333333333333349"
      ]
     },
     "execution_count": 14,
     "metadata": {},
     "output_type": "execute_result"
    }
   ],
   "source": [
    "IP(x->p₁(s₂(x)),p₁)"
   ]
  },
  {
   "cell_type": "code",
   "execution_count": 16,
   "id": "f9e5f755",
   "metadata": {},
   "outputs": [
    {
     "data": {
      "text/plain": [
       "-0.33333333333333337"
      ]
     },
     "execution_count": 16,
     "metadata": {},
     "output_type": "execute_result"
    }
   ],
   "source": [
    "1/6-1/2"
   ]
  },
  {
   "cell_type": "code",
   "execution_count": null,
   "id": "c2e32372",
   "metadata": {},
   "outputs": [],
   "source": []
  }
 ],
 "metadata": {
  "kernelspec": {
   "display_name": "Julia 1.7.2",
   "language": "julia",
   "name": "julia-1.7"
  },
  "language_info": {
   "file_extension": ".jl",
   "mimetype": "application/julia",
   "name": "julia",
   "version": "1.7.2"
  }
 },
 "nbformat": 4,
 "nbformat_minor": 5
}
