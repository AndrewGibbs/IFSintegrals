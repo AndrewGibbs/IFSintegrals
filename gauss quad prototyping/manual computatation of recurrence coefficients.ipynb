{
 "cells": [
  {
   "cell_type": "code",
   "execution_count": 1,
   "id": "a3adcda0",
   "metadata": {},
   "outputs": [],
   "source": [
    "using IFSintegrals"
   ]
  },
  {
   "cell_type": "code",
   "execution_count": 2,
   "id": "1074e38b",
   "metadata": {},
   "outputs": [
    {
     "data": {
      "text/plain": [
       "Attractor{Float64, Float64}(Similarity{Float64, Float64}[Similarity{Float64, Float64}(0.3333333333333333, 0.0, 1.0, 0.3333333333333333), Similarity{Float64, Float64}(0.3333333333333333, 0.6666666666666667, 1.0, 0.3333333333333333)], 1, 0.6309297535714574, true, true, 0.5, 1.0, 1.0, [0.5, 0.5])"
      ]
     },
     "execution_count": 2,
     "metadata": {},
     "output_type": "execute_result"
    }
   ],
   "source": [
    "Γ = CantorSet()"
   ]
  },
  {
   "cell_type": "code",
   "execution_count": 3,
   "id": "612d38c6",
   "metadata": {},
   "outputs": [
    {
     "data": {
      "text/plain": [
       "poly (generic function with 1 method)"
      ]
     },
     "execution_count": 3,
     "metadata": {},
     "output_type": "execute_result"
    }
   ],
   "source": [
    "function poly(x,coeffs)\n",
    "    max_power = length(coeffs)-1\n",
    "    sum = 0.0\n",
    "    for n=0:(length(coeffs)-1)\n",
    "        sum += coeffs[n+1]*x^(max_power-n)\n",
    "    end\n",
    "    return sum\n",
    "end"
   ]
  },
  {
   "cell_type": "markdown",
   "id": "bb3d53d5",
   "metadata": {},
   "source": [
    "From my matlab code, the first few orth polynomials on Cantor Set:\n",
    "ans =\n",
    "\n",
    "     1\n",
    "\n",
    "\n",
    "ans =\n",
    "\n",
    "     2    -1\n",
    "\n",
    "\n",
    "ans =\n",
    "\n",
    "    2.0000   -2.0000    0.2500\n",
    "\n",
    "\n",
    "ans =\n",
    "\n",
    "    2.0000   -3.0000    1.1500   -0.0750\n",
    "\n",
    "\n",
    "ans =\n",
    "\n",
    "  Columns 1 through 5\n",
    "\n",
    "    2.0000   -4.0000    2.4670   -0.4670    0.0146"
   ]
  },
  {
   "cell_type": "code",
   "execution_count": 4,
   "id": "8add25bd",
   "metadata": {},
   "outputs": [
    {
     "data": {
      "text/plain": [
       "p_4 (generic function with 1 method)"
      ]
     },
     "execution_count": 4,
     "metadata": {},
     "output_type": "execute_result"
    }
   ],
   "source": [
    "p_0(x) = 1.0\n",
    "p_1(x) = poly(x, [2,-1])\n",
    "p_2(x) = poly(x, [2.0000,-2.0000,0.2500])\n",
    "p_3(x) = poly(x, [2.0000,-3.0000,1.1500,-0.0750])\n",
    "p_4(x) = poly([2.0000,-4.0000,2.467032967034994,-0.467032967033761,0.014629120879174])"
   ]
  },
  {
   "cell_type": "markdown",
   "id": "8d7c8834",
   "metadata": {},
   "source": [
    "Now manually compute a few values of $r_n$ and $A_n$ to test against. Recall that:\n",
    "$$\n",
    "A_n = \\int_\\Gamma p_n(x)xp_n(x) d\\mu(x)\n",
    "$$\n",
    "and\n",
    "$$\n",
    "r_n = \\int_\\Gamma p_{n-1}(x)xp_n(x) d\\mu(x)\n",
    "$$"
   ]
  },
  {
   "cell_type": "code",
   "execution_count": 5,
   "id": "e57e3d28",
   "metadata": {},
   "outputs": [],
   "source": [
    "x,w = barycentre_rule(Γ,0.000000001); # still fast and gets the below computations to (almost) machine precision"
   ]
  },
  {
   "cell_type": "code",
   "execution_count": 6,
   "id": "214248d4",
   "metadata": {},
   "outputs": [
    {
     "data": {
      "text/plain": [
       "0.4999999999999991"
      ]
     },
     "execution_count": 6,
     "metadata": {},
     "output_type": "execute_result"
    }
   ],
   "source": [
    "A_0 = w'*(p_0.(x).*x.*p_0.(x))"
   ]
  },
  {
   "cell_type": "code",
   "execution_count": 7,
   "id": "82d1fc96",
   "metadata": {},
   "outputs": [
    {
     "data": {
      "text/plain": [
       "0.24999999999999972"
      ]
     },
     "execution_count": 7,
     "metadata": {},
     "output_type": "execute_result"
    }
   ],
   "source": [
    "A_1 = w'*(p_1.(x).*x.*p_1.(x))"
   ]
  },
  {
   "cell_type": "code",
   "execution_count": 8,
   "id": "c6d6b9aa",
   "metadata": {},
   "outputs": [
    {
     "data": {
      "text/plain": [
       "0.012499999999999975"
      ]
     },
     "execution_count": 8,
     "metadata": {},
     "output_type": "execute_result"
    }
   ],
   "source": [
    "A_2 = w'*(p_2.(x).*x.*p_2.(x))"
   ]
  },
  {
   "cell_type": "code",
   "execution_count": 9,
   "id": "f969250d",
   "metadata": {},
   "outputs": [
    {
     "data": {
      "text/plain": [
       "0.0011435439560439594"
      ]
     },
     "execution_count": 9,
     "metadata": {},
     "output_type": "execute_result"
    }
   ],
   "source": [
    "\n",
    "A_3 = w'*(p_3.(x).*x.*p_3.(x))"
   ]
  },
  {
   "cell_type": "code",
   "execution_count": 10,
   "id": "362a5a2f",
   "metadata": {},
   "outputs": [
    {
     "data": {
      "text/plain": [
       "0.24999999999999994"
      ]
     },
     "execution_count": 10,
     "metadata": {},
     "output_type": "execute_result"
    }
   ],
   "source": [
    "r_1 = w'*(p_1.(x).*x.*p_0.(x))"
   ]
  },
  {
   "cell_type": "code",
   "execution_count": 11,
   "id": "933d97dd",
   "metadata": {},
   "outputs": [
    {
     "data": {
      "text/plain": [
       "0.024999999999999998"
      ]
     },
     "execution_count": 11,
     "metadata": {},
     "output_type": "execute_result"
    }
   ],
   "source": [
    "r_2 = w'*(p_2.(x).*x.*p_1.(x))"
   ]
  },
  {
   "cell_type": "code",
   "execution_count": 12,
   "id": "19335039",
   "metadata": {},
   "outputs": [
    {
     "data": {
      "text/plain": [
       "0.0022870879120879158"
      ]
     },
     "execution_count": 12,
     "metadata": {},
     "output_type": "execute_result"
    }
   ],
   "source": [
    "r_3 = w'*(p_2.(x).*x.*p_3.(x))"
   ]
  },
  {
   "cell_type": "code",
   "execution_count": 13,
   "id": "4ae7daaa",
   "metadata": {},
   "outputs": [
    {
     "data": {
      "text/plain": [
       "-0.1666666666666667"
      ]
     },
     "execution_count": 13,
     "metadata": {},
     "output_type": "execute_result"
    }
   ],
   "source": [
    "s₁(x) = sim_map(Γ.IFS[1],x)\n",
    "tildeΓ¹₁₀ = w'*(r_1*p_1.(s₁.(x)) .* p_0.(x))"
   ]
  },
  {
   "cell_type": "code",
   "execution_count": 14,
   "id": "268d45f8",
   "metadata": {},
   "outputs": [
    {
     "data": {
      "text/plain": [
       "0.16666666666666619"
      ]
     },
     "execution_count": 14,
     "metadata": {},
     "output_type": "execute_result"
    }
   ],
   "source": [
    "tildeΓ¹₁₁ = w'*(p_1.(s₁.(x)) .* p_1.(x)) # I think there is rₙ/rₙ hidden in here"
   ]
  },
  {
   "cell_type": "markdown",
   "id": "50110d71",
   "metadata": {},
   "source": [
    "$$\n",
    "\\begin{align}\n",
    "    \\left(\\tilde{p}_1\\circ\\phi_i,p_0\\right) =\\left(\\delta_1-A_{0}\\right)\\Gamma_{i,j}^{0} +\\delta_i\\Gamma_{i,\\ell}^{0}(p_0(x)x,p_j(x)),\n",
    "\\end{align}\n",
    "$$"
   ]
  },
  {
   "cell_type": "code",
   "execution_count": null,
   "id": "7f27de62",
   "metadata": {},
   "outputs": [],
   "source": []
  }
 ],
 "metadata": {
  "kernelspec": {
   "display_name": "Julia 1.7.2",
   "language": "julia",
   "name": "julia-1.7"
  },
  "language_info": {
   "file_extension": ".jl",
   "mimetype": "application/julia",
   "name": "julia",
   "version": "1.7.2"
  }
 },
 "nbformat": 4,
 "nbformat_minor": 5
}
