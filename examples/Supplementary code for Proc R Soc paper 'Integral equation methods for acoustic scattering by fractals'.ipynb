{
 "cells": [
  {
   "cell_type": "markdown",
   "metadata": {},
   "source": [
    "# Supplementary code for  *Integral equation methods for acoustic scattering by fractals*\n",
    "\n",
    "This notebook contains sample code which can be used to reproduce the field plots in Section 5(a) of the Proc. R. Soc. paper **Integral equation methods for acoustic scattering by fractals**, by *A. M. Caetano, S. N. Chandler-Wilde, X. Claeys, A. Gibbs, D. P. Hewett and A. Moiola*.\n",
    "\n",
    "All results in the above paper were produced using the open-source Julia package [IFSintegrals](https://github.com/AndrewGibbs/IFSintegrals). A technical understanding of this package is **not** required to understand the key ideas in this notebook. Throughout this notebook, we will make frequent references to equation numbers of the associated paper."
   ]
  },
  {
   "cell_type": "markdown",
   "metadata": {},
   "source": [
    "### Setting up the problem\n",
    "First, we load the relevant Julia packages."
   ]
  },
  {
   "cell_type": "code",
   "execution_count": null,
   "metadata": {},
   "outputs": [],
   "source": [
    "using IFSintegrals, Plots, LinearAlgebra;\n",
    "import IFSintegrals: rotation2"
   ]
  },
  {
   "cell_type": "markdown",
   "metadata": {},
   "source": [
    "Next, define the scatterer. Most of the examples considered are available as presets in ```IFSintegrals```. The variable ```eg_index``` determines which example to run. "
   ]
  },
  {
   "cell_type": "code",
   "execution_count": null,
   "metadata": {},
   "outputs": [],
   "source": [
    "eg_index = 1;"
   ]
  },
  {
   "cell_type": "markdown",
   "metadata": {},
   "source": [
    "The following values of ```eg_index``` correspond to different scattering configurations, each in $\\mathbb{R}^2$:\n",
    "1. The Koch curve (see Example 2.3)\n",
    "2. Cantor set  with contraction factor $\\rho=1/3$\n",
    "3. Cantor dust with contraction factor $\\rho=1/3$\n",
    "4. A Koch snowflake, constructed as the union of three Koch curves (see Fig. 8(b))\n",
    "5. The union of a Cantor set with contraction factor $\\rho=1/3$ and a Koch curve.\n",
    "\n",
    "Now we define our scatterer $\\Gamma$ and plot it."
   ]
  },
  {
   "cell_type": "code",
   "execution_count": null,
   "metadata": {},
   "outputs": [],
   "source": [
    "if eg_index == 1 # Koch curve\n",
    "    Γ = KochCurve()\n",
    "elseif eg_index == 2 # Cantor dust\n",
    "    Γ = CantorSet() + [0,0]\n",
    "elseif eg_index == 3 # Cantor set\n",
    "    Γ = CantorDust()\n",
    "elseif eg_index == 4 # Koch snowflake, as a union of Koch curves\n",
    "    Koch_height = 0.288675134594813\n",
    "    γ = KochCurve()+[-1/2,Koch_height]\n",
    "    γ₁ = γ\n",
    "    γ₂ = rotation2(2π/3)*γ\n",
    "    γ₃ = rotation2(4π/3)*γ\n",
    "    Γ = UnionInvariantMeasure([γ₁,γ₂,γ₃])\n",
    "elseif eg_index == 5 # Cantor set union Koch curve\n",
    "    γ₁ = CantorSet() + [0,-0.2] # embed Cantor set in ℝ² and translate\n",
    "    γ₂ = KochCurve()\n",
    "    Γ = UnionInvariantMeasure([γ₁, γ₂])\n",
    "end\n",
    "\n",
    "# now plot the fractal\n",
    "plot(Γ, aspect_ratio=1, legend=false, markersize=0.5)"
   ]
  },
  {
   "cell_type": "markdown",
   "metadata": {},
   "source": [
    "We note that for cases ```eg_index```$=4,5$, we are translating the fractals by adding a vector, and ```eg_index```$=4$ also has a rotation. By default, the Cantor set is defined as a subset of $\\mathbb{R}$. By adding $[0,0]$ in line 4 (similarly in line 15), the Cantor set is embedded in $\\mathbb{R}^2$."
   ]
  },
  {
   "cell_type": "markdown",
   "metadata": {},
   "source": [
    "Now we define an incident plane wave $u^i(x):=\\mathrm{e}^{\\mathrm{i}k\\vartheta\\cdot x}$:"
   ]
  },
  {
   "cell_type": "code",
   "execution_count": null,
   "metadata": {
    "scrolled": true
   },
   "outputs": [],
   "source": [
    "k = 20.0 # wavenumber\n",
    "ϑ = [1, 1]/sqrt(2) # incident direction\n",
    "uⁱ(x) = exp(im*k*(ϑ⋅x)) \n",
    "g(x) = -uⁱ(x)"
   ]
  },
  {
   "cell_type": "markdown",
   "metadata": {},
   "source": [
    "In the final line above, we construct the right-hand side data (3.6)."
   ]
  },
  {
   "cell_type": "markdown",
   "metadata": {},
   "source": [
    "### Approximating the solution"
   ]
  },
  {
   "cell_type": "markdown",
   "metadata": {},
   "source": [
    "Now define the approximation parameters $h$ and $h_Q$. Choosing smaller values will make the solution more accurate, but will make the coder take longer."
   ]
  },
  {
   "cell_type": "code",
   "execution_count": null,
   "metadata": {},
   "outputs": [],
   "source": [
    "h = 0.05 # max mesh width of BEM elements\n",
    "hQ = 0.01; # max mesh width for quadrature in BEM"
   ]
  },
  {
   "cell_type": "markdown",
   "metadata": {},
   "source": [
    "Define the boundary integral operator $A$ of (3.15), and its discretised stucture $A_h$, which contains essential information about the mesh, Galerkin matrix (4.16), etc. Then solve the system to obtain the discrete solution $\\phi_h$."
   ]
  },
  {
   "cell_type": "code",
   "execution_count": null,
   "metadata": {},
   "outputs": [],
   "source": [
    "A = SingleLayerOperatorHelmholtz(Γ, k) # Single layer operator defined on screen Γ, with wavenumber k\n",
    "Aₕ = DiscreteSIO(A; h_mesh = h, h_quad = hQ)\n",
    "ϕ_N = Aₕ\\g;"
   ]
  },
  {
   "cell_type": "markdown",
   "metadata": {},
   "source": [
    "The final line above represents the Galerkin system (4.15). Now we can construct an approximation to the total field using (3.14) and (3.10):"
   ]
  },
  {
   "cell_type": "code",
   "execution_count": null,
   "metadata": {},
   "outputs": [],
   "source": [
    "𝘈ϕ_N = SingleLayerPotentialHelmholtz(ϕ_N,k; h_quad = hQ)# returns function\n",
    "u_N(x) = uⁱ(x) + 𝘈ϕ_N(x) # total field"
   ]
  },
  {
   "cell_type": "markdown",
   "metadata": {},
   "source": [
    "### Plotting the total field"
   ]
  },
  {
   "cell_type": "markdown",
   "metadata": {},
   "source": [
    "Now we create a box in which we will plot our solution. The variable ```Npixels``` determines the resolution, if this is increased then the code will take longer."
   ]
  },
  {
   "cell_type": "code",
   "execution_count": null,
   "metadata": {},
   "outputs": [],
   "source": [
    "Npixels = 150;\n",
    "box_xlims = [-1,2] # horizontal limits of box\n",
    "box_ylims = [-1,1]; # vertical limits of box"
   ]
  },
  {
   "cell_type": "code",
   "execution_count": null,
   "metadata": {},
   "outputs": [],
   "source": [
    "h□x = (box_xlims[2]-box_xlims[1])/Npixels\n",
    "h□y = (box_ylims[2]-box_ylims[1])/Npixels\n",
    "x₁ = box_xlims[1]:h□x:box_xlims[2]\n",
    "x₂ = box_ylims[1]:h□y:box_ylims[2]\n",
    "X = [[x₁_,x₂_] for x₁_∈x₁, x₂_∈x₂];"
   ]
  },
  {
   "cell_type": "code",
   "execution_count": null,
   "metadata": {},
   "outputs": [],
   "source": [
    "heatmap(x₁,x₂,transpose(real(u_N.(X))), aspect_ratio = 1, \n",
    "    title=\"Total field\", label=false, c = :jet)\n",
    "plot!(Γ,color = \"black\", markersize=0.5, label=false)"
   ]
  }
 ],
 "metadata": {
  "kernelspec": {
   "display_name": "Julia 1.7.2",
   "language": "julia",
   "name": "julia-1.7"
  },
  "language_info": {
   "file_extension": ".jl",
   "mimetype": "application/julia",
   "name": "julia",
   "version": "1.7.2"
  }
 },
 "nbformat": 4,
 "nbformat_minor": 4
}
