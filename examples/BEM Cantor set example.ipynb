{
 "cells": [
  {
   "cell_type": "code",
   "execution_count": null,
   "metadata": {},
   "outputs": [],
   "source": [
    "using IFSintegrals, Plots;"
   ]
  },
  {
   "cell_type": "markdown",
   "metadata": {},
   "source": [
    "Set the physical problem parameters:"
   ]
  },
  {
   "cell_type": "code",
   "execution_count": null,
   "metadata": {},
   "outputs": [],
   "source": [
    "Γ = CantorSet() # scattering obstacle\n",
    "k = 20 # wavenumber\n",
    "d = [1, 1]/sqrt(2); # incident wave direction"
   ]
  },
  {
   "cell_type": "markdown",
   "metadata": {},
   "source": [
    "Set the problem parameters:"
   ]
  },
  {
   "cell_type": "code",
   "execution_count": null,
   "metadata": {},
   "outputs": [],
   "source": [
    "h_bem = 0.005 # meshwidth for BEM\n",
    "h_quad = 0.001; # meshwidth for quadrature"
   ]
  },
  {
   "cell_type": "markdown",
   "metadata": {},
   "source": [
    "Approximate the problem as a BIE and solve:"
   ]
  },
  {
   "cell_type": "code",
   "execution_count": null,
   "metadata": {},
   "outputs": [],
   "source": [
    "S = SingleLayer(Γ, k) # BIO\n",
    "Sₕ = DiscreteSIO(S;h_mesh = h_bem, h_quad = h_quad) # discretised BIO\n",
    "f(x) = exp(im*k*(d[1]*x[1])) # RHS data\n",
    "ϕₕ = Sₕ\\f; # discrete solution"
   ]
  },
  {
   "cell_type": "markdown",
   "metadata": {},
   "source": [
    "Now plot the solution"
   ]
  },
  {
   "cell_type": "code",
   "execution_count": null,
   "metadata": {},
   "outputs": [],
   "source": [
    "uⁱ(x) = exp(im*k*(d'*x))\n",
    "h□ = 0.01 # adujust this for more acurate / faster plots\n",
    "x₁ = -1:h□:2\n",
    "x₂ = -1:h□:1\n",
    "X = [[x₁_,x₂_] for x₁_∈x₁, x₂_∈x₂]\n",
    "Sₖϕₕ = single_layer_potential(ϕₕ,k)\n",
    "uˢ(x) = -Sₖϕₕ(x)\n",
    "uᵗ = uⁱ.(X) + uˢ.(X);"
   ]
  },
  {
   "cell_type": "code",
   "execution_count": null,
   "metadata": {},
   "outputs": [],
   "source": [
    "heatmap(x₁,x₂,transpose(real(uˢ.(X))),  aspect_ratio = 1, \n",
    "    title=\"Scattered field\", legend=true, c = :thermal)\n",
    "draw!(Γ)"
   ]
  },
  {
   "cell_type": "code",
   "execution_count": null,
   "metadata": {},
   "outputs": [],
   "source": [
    "heatmap((log10.(abs.(Sₕ.Galerkin_matrix[end:-1:1,:]))))"
   ]
  }
 ],
 "metadata": {
  "kernelspec": {
   "display_name": "Julia 1.7.2",
   "language": "julia",
   "name": "julia-1.7"
  },
  "language_info": {
   "file_extension": ".jl",
   "mimetype": "application/julia",
   "name": "julia",
   "version": "1.7.2"
  }
 },
 "nbformat": 4,
 "nbformat_minor": 4
}
