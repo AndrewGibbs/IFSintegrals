{
 "cells": [
  {
   "cell_type": "code",
   "execution_count": null,
   "id": "840b2773",
   "metadata": {},
   "outputs": [],
   "source": [
    "using IFSintegrals, Plots, LinearAlgebra"
   ]
  },
  {
   "cell_type": "markdown",
   "id": "f523185e",
   "metadata": {},
   "source": [
    "Define a couple of fractals from presets:"
   ]
  },
  {
   "cell_type": "code",
   "execution_count": null,
   "id": "c7db4d32",
   "metadata": {},
   "outputs": [],
   "source": [
    "γ = CantorSet()\n",
    "Δ = Sierpinski();"
   ]
  },
  {
   "cell_type": "markdown",
   "id": "71b83c93",
   "metadata": {},
   "source": [
    "### Gauss quadrature\n",
    "Gauss quadrature, [as in Mantica '96](https://link.springer.com/article/10.1007/BF02437506), is only possible on fractals where $\\Gamma\\subset\\mathbb{R}$. So we can do this on the Cantor set $\\gamma$, an $N$-point rule can be constructed like so:"
   ]
  },
  {
   "cell_type": "code",
   "execution_count": null,
   "id": "81758586",
   "metadata": {},
   "outputs": [],
   "source": [
    "N = 51\n",
    "x,w = gauss_quad(γ,N);\n",
    "scatter(x,ones(length(x)),shape=:x,markersize=2,mc=:rainbow,mz=w,ylims=(1-0.1,1.1),aspect_ratio = 1,label=false)"
   ]
  },
  {
   "cell_type": "markdown",
   "id": "ab0216ca",
   "metadata": {},
   "source": [
    "Notice how not all of the quadrture points lie inside of the fractal $\\gamma$, there is clearly some influence from $\\gamma$. So, to approximate\n",
    "$$\n",
    "\\int_\\gamma \\sin(x)\\mathcal{H}^d(x)\n",
    "$$\n",
    "we can write"
   ]
  },
  {
   "cell_type": "code",
   "execution_count": null,
   "id": "2e7586cc",
   "metadata": {},
   "outputs": [],
   "source": [
    "w'*sin.(x)"
   ]
  },
  {
   "cell_type": "markdown",
   "id": "0d6591cc",
   "metadata": {},
   "source": [
    "### Barycentre rule\n",
    "To use the barycentre rule, [as in Gibbs et. al. '22](https://discovery.ucl.ac.uk/id/eprint/10155585/2/Hewett_Numerical%20Quadrature%20for%20Singular%20Integrals%20on%20Fractals_AOP.pdf), with meshwidth parameter $h>0$, type:"
   ]
  },
  {
   "cell_type": "code",
   "execution_count": null,
   "id": "26332872",
   "metadata": {},
   "outputs": [],
   "source": [
    "h = 0.01\n",
    "x,w = barycentre_rule(γ,h)\n",
    "scatter(x,ones(length(x)),shape=:x,markersize=2,mc=:rainbow,mz=w,ylims=(1-0.1,1.1),aspect_ratio = 1,label=false)"
   ]
  },
  {
   "cell_type": "code",
   "execution_count": null,
   "id": "e68b9368",
   "metadata": {},
   "outputs": [],
   "source": [
    "w'*sin.(x)"
   ]
  },
  {
   "cell_type": "markdown",
   "id": "d5672ab1",
   "metadata": {},
   "source": [
    "The barycentre rule will converge slower than Gauss, but has the advantage that it can be applied to fractals in any dimension. For example:"
   ]
  },
  {
   "cell_type": "code",
   "execution_count": null,
   "id": "05121340",
   "metadata": {},
   "outputs": [],
   "source": [
    "x,w = barycentre_rule(Δ,h);"
   ]
  },
  {
   "cell_type": "code",
   "execution_count": null,
   "id": "511207d3",
   "metadata": {},
   "outputs": [],
   "source": [
    "scatter([x_[1] for x_∈x],[x_[2] for x_∈x],shape=:x,markersize=1,mc=:rainbow,mz=w,aspect_ratio = 1,label=false)"
   ]
  },
  {
   "cell_type": "markdown",
   "id": "5280de0f",
   "metadata": {},
   "source": [
    "To approximate\n",
    "$$\n",
    "\\int_\\Delta \\sin(|x|) \\mathcal{H}^d(x)\n",
    "$$\n",
    "we can type"
   ]
  },
  {
   "cell_type": "code",
   "execution_count": null,
   "id": "a7764c6d",
   "metadata": {},
   "outputs": [],
   "source": [
    "w'*sin.(norm.(x))"
   ]
  },
  {
   "cell_type": "markdown",
   "id": "513b7299",
   "metadata": {},
   "source": [
    "### Chaos game quadrature"
   ]
  },
  {
   "cell_type": "markdown",
   "id": "9cba409c",
   "metadata": {},
   "source": [
    "Chaos game quadrature, [as in Forte et. al '98](https://epubs.siam.org/doi/abs/10.1137/S0036141096306911?casa_token=ywEgBBMsrLIAAAAA:cQqjSxmAHG9Qh-brcK9TYvZvi-moOQTd08WdXhw5HIUqN0GjXPKePURtZywnf4gm2FayzVgZ4w), rules can be produced using:"
   ]
  },
  {
   "cell_type": "code",
   "execution_count": null,
   "id": "5e6e9bfa",
   "metadata": {},
   "outputs": [],
   "source": [
    "N = 5000 # 10000 is a bit too many\n",
    "x,w = chaos_quad(Δ,N);"
   ]
  },
  {
   "cell_type": "code",
   "execution_count": null,
   "id": "9ca86545",
   "metadata": {},
   "outputs": [],
   "source": [
    "# scatter([x_[1] for x_∈x],[x_[2] for x_∈x],shape=:+,markersize=2,mc=:rainbow,mz=w)\n",
    "scatter([x_[1] for x_∈x],[x_[2] for x_∈x],shape=:x,markersize=1,mc=:rainbow,mz=w,aspect_ratio = 1,label=false)"
   ]
  },
  {
   "cell_type": "markdown",
   "id": "1d2d2c3d",
   "metadata": {},
   "source": [
    "### Computing $s$-energy\n",
    "The $s$-energy takes three arguments.\n",
    "* The first is the fractal\n",
    "* The second is the $s$-value. A value $s=0$ corresponds to logarithmic potential (see below), otherwise\n",
    "$$\n",
    "\\int_\\Gamma\\int_\\Gamma|x-y|^{-s}\\mathcal{H}^d(x)\\mathcal{H}^d(y)\n",
    "$$\n",
    "is computed.\n",
    "* The third corresponds to quadrature. If a non-negative number $h>0$ is provided, it defaults to the Barycentre rule.\n",
    "\n",
    "To approximate\n",
    "$$\n",
    "\\int_\\gamma\\int_\\gamma \\log|x-y|~\\mathcal{H}^d(y)\\mathcal{H}^d(x),\n",
    "$$\n",
    "we can type"
   ]
  },
  {
   "cell_type": "code",
   "execution_count": null,
   "id": "fa7e80f3",
   "metadata": {},
   "outputs": [],
   "source": [
    "h=0.01\n",
    "s_energy(γ,0,h)"
   ]
  },
  {
   "cell_type": "markdown",
   "id": "43618008",
   "metadata": {},
   "source": [
    "for a barycentre approximation. Alternatively, for example, we can specify our own $10$-point Gauss rule, and use that:"
   ]
  },
  {
   "cell_type": "code",
   "execution_count": null,
   "id": "130564ec",
   "metadata": {},
   "outputs": [],
   "source": [
    "function gauss_for_s_energy(X,Y,f)\n",
    "   x,y,w = gauss_quad(X,Y,10)\n",
    "    return w'*f.(x,y)\n",
    "end\n",
    "s_energy(γ,0,gauss_for_s_energy)"
   ]
  },
  {
   "cell_type": "markdown",
   "id": "8893f561",
   "metadata": {},
   "source": [
    "To approximate\n",
    "$$\n",
    "\\int_\\Delta\\int_\\Delta|x-y|^{-1}~\\mathcal{H}^d(y)\\mathcal{H}^d(x),\n",
    "$$\n",
    "we can type"
   ]
  },
  {
   "cell_type": "code",
   "execution_count": null,
   "id": "3c10e228",
   "metadata": {},
   "outputs": [],
   "source": [
    "s_energy(Δ,1.0,h)"
   ]
  }
 ],
 "metadata": {
  "kernelspec": {
   "display_name": "Julia 1.7.2",
   "language": "julia",
   "name": "julia-1.7"
  },
  "language_info": {
   "file_extension": ".jl",
   "mimetype": "application/julia",
   "name": "julia",
   "version": "1.7.2"
  }
 },
 "nbformat": 4,
 "nbformat_minor": 5
}
