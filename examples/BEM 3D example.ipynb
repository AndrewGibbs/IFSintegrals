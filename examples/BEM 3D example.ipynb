{
 "cells": [
  {
   "cell_type": "code",
   "execution_count": null,
   "metadata": {},
   "outputs": [],
   "source": [
    "using IFSintegrals, Plots;"
   ]
  },
  {
   "cell_type": "markdown",
   "metadata": {},
   "source": [
    "Create an IFS, as an array of similarities. This IFS will correspond to an attractor (with an associated invariant measure)."
   ]
  },
  {
   "cell_type": "code",
   "execution_count": null,
   "metadata": {},
   "outputs": [],
   "source": [
    "ρ = 0.41\n",
    "    IFS = [\n",
    "        Similarity(ρ,[0,0]) # first argument is contraction, second is translation\n",
    "        Similarity(ρ,[1-ρ,0])\n",
    "        Similarity(ρ,[(1-ρ)/2,sqrt(3)*(1-ρ)/2])\n",
    "        Similarity(ρ,[(1-ρ)/2,(1-ρ)/(2*sqrt(3))])\n",
    "    ]\n",
    "Γ = InvariantMeasure(IFS); # This is our 'fractal'"
   ]
  },
  {
   "cell_type": "markdown",
   "metadata": {},
   "source": [
    "Sketch the fractal which we will be scattering:"
   ]
  },
  {
   "cell_type": "code",
   "execution_count": null,
   "metadata": {},
   "outputs": [],
   "source": [
    "draw(Γ)"
   ]
  },
  {
   "cell_type": "markdown",
   "metadata": {},
   "source": [
    "The exterior Helmholtz PDE is\n",
    "$$(\\Delta+k^2) u = 0 \\quad\\text{ in } \\quad\\mathbb{R}^2\\setminus\\Gamma,\\qquad u=0\\text{ on } \\Gamma$$.\n",
    "\n",
    "This can be reformulated as a boundary integral equation: \n",
    "$$S\\phi = g \\quad\\text{on } \\Gamma,$$ with wavenumber $k$, incident direction $d$, where $S$ is an integral operator."
   ]
  },
  {
   "cell_type": "code",
   "execution_count": null,
   "metadata": {
    "scrolled": true
   },
   "outputs": [],
   "source": [
    "k = 52.0 # wavenumber\n",
    "d = [0, 0, -1] # incident direction\n",
    "S = SingleLayer(Γ, k) # Single layer operator defined on screen Γ, with wavenumber k\n",
    "g(x) = exp(im*k*(d[1:2]'*x)) # RHS data"
   ]
  },
  {
   "cell_type": "markdown",
   "metadata": {},
   "source": [
    "Now approximately solve the boundary integral equation, via Galekrin method: Find $\\phi_h\\in V_N$ which satisfies\n",
    "$$\\left<S\\phi_h,\\psi_N\\right>_{H^{1/2}(\\Gamma_\\infty)\\times H^{-1/2}(\\Gamma_\\infty)} = \\left<g,\\psi_N\\right>_{H^{1/2}(\\Gamma_\\infty)\\times H^{-1/2}(\\Gamma_\\infty)},\\quad\\psi_N\\in V_N$$"
   ]
  },
  {
   "cell_type": "code",
   "execution_count": null,
   "metadata": {},
   "outputs": [],
   "source": [
    "Sₕ = DiscreteSIO(S; h_mesh = 0.05, h_quad = 0.01) # Galerkin Discretisation of BIO\n",
    "ϕₕ = Sₕ\\g; # Solve linear system (using overloaded linear algebra syntax)"
   ]
  },
  {
   "cell_type": "markdown",
   "metadata": {},
   "source": [
    "Using representation formulae, plot an approximation to $u$, in $[-0.5,1.5]^2\\times\\{0\\}$:"
   ]
  },
  {
   "cell_type": "code",
   "execution_count": null,
   "metadata": {},
   "outputs": [],
   "source": [
    "X,x₁,x₂ = slice([-0.5,-0.5],[1.5,1.5],-0.2,100,100)\n",
    "Sₖϕₕ = single_layer_potential(ϕₕ,k)# returns function\n",
    "uⁱ(x) = exp(im*k*(d'*x)) # define inc field in domain\n",
    "u(x) = uⁱ(x) - Sₖϕₕ(x) # total field"
   ]
  },
  {
   "cell_type": "code",
   "execution_count": null,
   "metadata": {},
   "outputs": [],
   "source": [
    "heatmap(x₁,x₂,real(u.(X)), aspect_ratio = 1, \n",
    "    title=\"Total field\", legend=true, c = :thermal)\n",
    "draw!(Γ,color = \"white\", markersize=0.5)"
   ]
  }
 ],
 "metadata": {
  "kernelspec": {
   "display_name": "Julia 1.7.2",
   "language": "julia",
   "name": "julia-1.7"
  },
  "language_info": {
   "file_extension": ".jl",
   "mimetype": "application/julia",
   "name": "julia",
   "version": "1.7.2"
  }
 },
 "nbformat": 4,
 "nbformat_minor": 4
}
