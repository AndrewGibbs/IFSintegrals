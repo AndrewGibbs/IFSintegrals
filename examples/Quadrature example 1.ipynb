{
 "cells": [
  {
   "cell_type": "markdown",
   "id": "9da288d1",
   "metadata": {},
   "source": [
    "# Approximating integrals on fractals\n",
    "This notebook shows how to use ```IFSintegrals``` to approximate integrals of the form\n",
    "$$\n",
    "\\int_\\Gamma f(x)\\mathrm{d}\\mu(x),\n",
    "$$\n",
    "over a fractal $\\Gamma$ of Hausdorff dimension $d$, with respect to the measure $\\mu$. We will also investigate double integrals\n",
    "$$\n",
    "\\int_{\\Gamma_1}\\int_{\\Gamma_2} f(x,y)\\mathrm{d}\\mu_1(y)\\mathrm{d}\\mu_2(x)\n",
    "$$\n",
    "\n",
    "The ideas presented in this tutorial are all based on the work of [this paper](http://arxiv.org/abs/2112.11793).\n",
    "\n",
    "In $\\S1$ of this tutorial we will focus on smooth $f$, and in $\\S2$ weakly singular $f$ will be demonstrated. But first, let's understand some basic principles of this Julia toolbox. Until $\\S3$, we will focus on the case of Hausdorff measure, where $\\mu=\\mathcal{H}^d|_\\Gamma/\\mathcal{H}^d(\\Gamma)$, etc."
   ]
  },
  {
   "cell_type": "code",
   "execution_count": null,
   "id": "d1325445",
   "metadata": {},
   "outputs": [],
   "source": [
    "using IFSintegrals, Plots;"
   ]
  },
  {
   "cell_type": "markdown",
   "id": "e5a3121c",
   "metadata": {},
   "source": [
    "First, let's encode an iterated function system (IFS) describing some fractal attractor $\\Gamma$. For a set $E\\subset\\mathbb{R}^n$, $n\\in\\mathbb{N}$, this will be of the form\n",
    "$$\n",
    "S(E):=\\cup_{m=1}^M s_m(E),\n",
    "$$\n",
    "where $s_m(x):=A_m\\rho_mx+\\delta_m$ is a contracting similarity, where $A_m$ is a rotation matrix, $\\rho_m<1$ and $\\delta_m\\in\\mathbb{R}^n$, for $m=1,\\ldots,M$. The attractor $\\Gamma$ is uniquely defined as the compact set which satisfies $\\Gamma=S(\\Gamma)$.\n",
    "\n",
    "In this Julia package, ```Similarity``` is a *type*, and can be constructed using the syntax ```Similarity(ρ,δ)``` with contraction $\\rho$ and translation $\\delta$. There is an optional third entry for a rotation matrix (this defaults to the identity matrix).\n",
    "\n",
    "In this package, an IFS is represented an array of similarities. We can then represent the fractal $\\Gamma$ using the ```Attractor``` type, as follows:"
   ]
  },
  {
   "cell_type": "code",
   "execution_count": null,
   "id": "a93be66e",
   "metadata": {},
   "outputs": [],
   "source": [
    "ρ = 0.41 # uniform contraction\n",
    "IFS = [\n",
    "    Similarity(ρ,[0,0])\n",
    "    Similarity(ρ,[1-ρ,0])\n",
    "    Similarity(ρ,[(1-ρ)/2,sqrt(3)*(1-ρ)/2])\n",
    "    Similarity(ρ,[(1-ρ)/2,(1-ρ)/(2*sqrt(3))])\n",
    "]\n",
    "Γ = Attractor(IFS)"
   ]
  },
  {
   "cell_type": "markdown",
   "id": "52e0d4ea",
   "metadata": {},
   "source": [
    "In the background, the constructor for ```Attractor``` has computed all of the properties we might need for subsequent computations. These include:\n",
    "* Hausdorff dimension\n",
    "* Diameter\n",
    "* Barycentre"
   ]
  },
  {
   "cell_type": "code",
   "execution_count": null,
   "id": "03b9c4b6",
   "metadata": {},
   "outputs": [],
   "source": [
    "println(\"d = \", Γ.Hausdorff_dimension)\n",
    "println(\"diam(Γ) = \", Γ.diameter)\n",
    "println(\"Barycentre of Γ: \", Γ.barycentre)"
   ]
  },
  {
   "cell_type": "markdown",
   "id": "d00f8498",
   "metadata": {},
   "source": [
    "To view all of the properties of ```Γ``` in a notebook such as this, type ```Γ.``` and hit the tab key"
   ]
  },
  {
   "cell_type": "markdown",
   "id": "3ae16a04",
   "metadata": {},
   "source": [
    "Here we have defined our own ```Attractor``` from scratch, but there are several presets of popular fractals:\n",
    "* ```CantorSet(β)```, [Cantor set](https://en.wikipedia.org/wiki/Cantor_set) with middle $\\beta$ removed at each iteration ($\\beta$ is optional and defaults to $\\beta=1/3$)\n",
    "* ```CantorDust(β)```, Cantor dust, the cartesian product of two Cantor sets with middle $\\beta$ removed (again $\\beta$ is optional)\n",
    "* ```SquareFlake()```, the Square Snowflake, or [Minkowski island](https://en.wikipedia.org/wiki/Minkowski_sausage)\n",
    "* ```KochFlake()```, the [Koch snowflake](https://en.wikipedia.org/wiki/Koch_snowflake)\n",
    "* ```Sierpinski()```, the [Sierpinski triangle](https://en.wikipedia.org/wiki/Sierpiński_triangle)"
   ]
  },
  {
   "cell_type": "markdown",
   "id": "285cc1fc",
   "metadata": {},
   "source": [
    "We can *sketch* $\\Gamma$, using the following the routine ```sketch_attractor```. This produces a set of points, which can then be visualised in the usual Julian way."
   ]
  },
  {
   "cell_type": "code",
   "execution_count": null,
   "id": "661ec75c",
   "metadata": {
    "scrolled": true
   },
   "outputs": [],
   "source": [
    "draw(Γ)"
   ]
  },
  {
   "cell_type": "markdown",
   "id": "0dd3a9f2",
   "metadata": {},
   "source": [
    "### 1. Barycentre rule"
   ]
  },
  {
   "cell_type": "markdown",
   "id": "aad93d52",
   "metadata": {},
   "source": [
    "This quadrature rule works by partitioning $\\Gamma$ into subsets, such that each subset is no more than $h$ in diameter, for some fixed $h>0$. On each subset, we approximate the integrand by a constant. This is the same principle as the classical midpoint rule. As in the classical case, we can reduce error by choosing a smaller $h$ (assuming the integrand is Lipschitz continuous).\n",
    "\n",
    "Now let's choose an approximation parameter $h$, then get weights and nodes of the Barycentre Rule. These are $y_\\mathbf{m}$ and $w_\\mathbf{m}$ for $\\mathbf{m}\\in L_h(\\Gamma)$."
   ]
  },
  {
   "cell_type": "code",
   "execution_count": null,
   "id": "9249fd3b",
   "metadata": {},
   "outputs": [],
   "source": [
    "h = 0.05\n",
    "y, w = barycentre_rule(Γ,h)"
   ]
  },
  {
   "cell_type": "markdown",
   "id": "b4afb8ab",
   "metadata": {},
   "source": [
    "Let's take a look at where the quadrature nodes sit. We should expect it to resemble our sketch $\\Gamma$ a little."
   ]
  },
  {
   "cell_type": "code",
   "execution_count": null,
   "id": "bf2c7699",
   "metadata": {},
   "outputs": [],
   "source": [
    "Y = permutedims(hcat(y...))\n",
    "scatter(Y[:,1],Y[:,2],legend=:false,markerstrokewidth=0, markersize=3, markercolor=\"black\")"
   ]
  },
  {
   "cell_type": "markdown",
   "id": "bb531658",
   "metadata": {},
   "source": [
    "Now suppose we want to evaluate\n",
    "$$\n",
    "\\frac{\\int_\\Gamma f(y)\\mathrm{d}\\mathcal{H}^d(y)}{\\mathcal{H}^d(\\Gamma)}\\approx I_h=\\sum_{\\mathbf{m}\\in L_h(\\Gamma)}w_\\mathbf{m}f(y_\\mathbf{m}).\n",
    "$$\n",
    "This can be done as follows, for this example take $f(x)=\\sin(|x|)$:"
   ]
  },
  {
   "cell_type": "code",
   "execution_count": null,
   "id": "a701f0dc",
   "metadata": {},
   "outputs": [],
   "source": [
    "using LinearAlgebra\n",
    "f(x) = sin(sqrt(norm(x))) # define integrand\n",
    "Ih = w'*f.(y)"
   ]
  },
  {
   "cell_type": "markdown",
   "id": "bc97ad64",
   "metadata": {},
   "source": [
    "We could evaluate a double integral of the form:\n",
    "$$\n",
    "\\frac{\\int_{\\Gamma_1}\\int_{\\Gamma_2} f(x,y)\\mathrm{d}\\mathcal{H}^{d_2}(y)\\mathcal{H}^{d_1}(x)}{\\mathcal{H}^{d_1}(\\Gamma_1)\\mathcal{H}^{d_2}(\\Gamma_2)}\\approx I_h=\\sum_{\\mathbf{m}\\in L_h(\\Gamma_1)}\\sum_{\\mathbf{m'}\\in L_h(\\Gamma_2)}w_\\mathbf{m}f(x_\\mathbf{m},y_\\mathbf{m'}).\n",
    "$$\n",
    "For this example, let's take two different Cantor sets and $f(x,y)=\\sin(|x|)\\cos(|y|)$:"
   ]
  },
  {
   "cell_type": "code",
   "execution_count": null,
   "id": "a50eaaca",
   "metadata": {},
   "outputs": [],
   "source": [
    "Γ₁ = CantorSet(contraction = 1/3) # this is actually the default value for optional argument contraction\n",
    "Γ₂ = CantorSet(contraction = 1/4)\n",
    "f(x,y) = sin(abs(x))*cos(abs(y))\n",
    "\n",
    "x,y,w = barycentre_rule(Γ₁,Γ₂,h)\n",
    "Ih = (w'*f.(x,y))"
   ]
  },
  {
   "cell_type": "markdown",
   "id": "5ca95b6f",
   "metadata": {},
   "source": [
    "### 2. Evaluating integrals of singular Green's functions"
   ]
  },
  {
   "cell_type": "markdown",
   "id": "3907245c",
   "metadata": {},
   "source": [
    "Suppose we want to approximate:\n",
    "$$\n",
    "I=\\frac{\\int_\\Gamma\\Phi_t(x,\\xi_m)~\\mathrm{d}\\mathcal{H}^d(x)}{\\mathcal{H}^d(\\Gamma)}$$\n",
    "where $\\xi_m$ is a fixed point of $s_m$, and\n",
    "$$\n",
    "\\Phi_t(x,y) = \\left\\{\\begin{array}{ll}\n",
    "|x-y|^{-t},&\\quad t>0,\\\\\n",
    "\\log|x-y|,&\\quad t=0.\n",
    "\\end{array}\n",
    "\\right.\n",
    "$$"
   ]
  },
  {
   "cell_type": "code",
   "execution_count": null,
   "id": "6d713765",
   "metadata": {},
   "outputs": [],
   "source": [
    "t = 1/2 # singularity strength\n",
    "n = 2 #fixed point index, must be an integer\n",
    "Ih = eval_green_single_integral_fixed_point(Γ, t, h, n)"
   ]
  },
  {
   "cell_type": "markdown",
   "id": "25147e73",
   "metadata": {},
   "source": [
    "Now suppose we want to approximate\n",
    "$$\n",
    "\\frac{\\int_\\Gamma\\int_\\Gamma\\Phi_t(x,y)~\\mathrm{d}\\mathcal{H}^d(y)\\mathrm{d}\\mathcal{H}^d(x)}{(\\mathcal{H}^d(\\Gamma))^2}$$.\n",
    "This double integral is singular, so it would be unwise to approach it with the Barycentre rule, as the approximation would be undefined. Fortunately there is a special routine for singular integrals within this class."
   ]
  },
  {
   "cell_type": "code",
   "execution_count": null,
   "id": "a4b0d18a",
   "metadata": {},
   "outputs": [],
   "source": [
    "t = 1.0\n",
    "I = eval_green_double_integral(Γ, t, h)"
   ]
  },
  {
   "cell_type": "markdown",
   "id": "e5093eb9",
   "metadata": {},
   "source": [
    "Finally, suppose we want to approximate\n",
    "$$\n",
    "\\frac{\\int_\\Gamma\\int_\\Gamma\\Phi(x,y)~\\mathrm{d}\\mathcal{H}^d(y)\\mathrm{d}\\mathcal{H}^d(x)}{(\\mathcal{H}^d(\\Gamma))^2}$$\n",
    "where\n",
    "$$\n",
    "\\Phi(x) = \\left\\{\\begin{array}{ll}\n",
    "\\frac{\\mathrm{i}}{4}H^{(1)}_0(k|x-y|),&\\quad n=1,\\\\\n",
    "\\frac{\\mathrm{e}^{\\mathrm{i}k|x-y|}}{4\\pi|x-y|},&\\quad n=2.\n",
    "\\end{array}\n",
    "\\right.\n",
    "$$\n",
    "Note that for our fractal, $n=2$.\n",
    "\n",
    "The integrand can be split into a singular component $\\Phi_{n-1}/(4\\pi)$ which can be evaluated using the method above, and a non-singular component, which can be evaluated using the barycentre rule described in $\\S1$. There is a routine for doing this:"
   ]
  },
  {
   "cell_type": "code",
   "execution_count": null,
   "id": "02e44ca6",
   "metadata": {},
   "outputs": [],
   "source": [
    "k = 1.96\n",
    "Ih = singular_elliptic_double_integral(Γ, k, h)"
   ]
  },
  {
   "cell_type": "markdown",
   "id": "2d846cbc",
   "metadata": {},
   "source": [
    "The optional parameter $c_{\\mathrm{osc}}$ discussed in the paper can be adjusted as an optional parameter ```Cosc```:"
   ]
  },
  {
   "cell_type": "code",
   "execution_count": null,
   "id": "8a0e9cd8",
   "metadata": {},
   "outputs": [],
   "source": [
    "Ih = singular_elliptic_double_integral(Γ, k, h; Cosc=1.5)"
   ]
  },
  {
   "cell_type": "markdown",
   "id": "61984e05",
   "metadata": {},
   "source": [
    "### 3. More general measures\n",
    "Now we generalise to a general invariant measure $\\mu$. Here the measure can be described by a vector of $M$ weights:"
   ]
  },
  {
   "cell_type": "code",
   "execution_count": null,
   "id": "d8bc50ce",
   "metadata": {},
   "outputs": [],
   "source": [
    "M = length(IFS) # get M\n",
    "μ = rand(M) # generate random weights\n",
    "μ = μ/sum(μ)"
   ]
  },
  {
   "cell_type": "markdown",
   "id": "2d8f8d39",
   "metadata": {},
   "source": [
    "The following command creates the same attractor as at the top of this notebook, but it is now equipped with the more general measure $\\mu$, rather than the default Hausdorff measure."
   ]
  },
  {
   "cell_type": "code",
   "execution_count": null,
   "id": "f6bb56a9",
   "metadata": {},
   "outputs": [],
   "source": [
    "Ψ = Attractor(IFS, weights=μ)"
   ]
  },
  {
   "cell_type": "markdown",
   "id": "fc466c51",
   "metadata": {},
   "source": [
    "The presets behave similarly, for example:"
   ]
  },
  {
   "cell_type": "code",
   "execution_count": null,
   "id": "1dc1e766",
   "metadata": {},
   "outputs": [],
   "source": [
    "γ = CantorSet(weights=[0.3,0.7])"
   ]
  },
  {
   "cell_type": "markdown",
   "id": "603cc86f",
   "metadata": {},
   "source": [
    "And now all of the usual commands work, for example:"
   ]
  },
  {
   "cell_type": "code",
   "execution_count": null,
   "id": "e990ee31",
   "metadata": {},
   "outputs": [],
   "source": [
    "x,w = barycentre_rule(Ψ, h)\n",
    "x,w = barycentre_rule(γ,h)"
   ]
  },
  {
   "cell_type": "markdown",
   "id": "9b10ec68",
   "metadata": {},
   "source": [
    "The one command that does not fit within this framework is evaluation of the double integral\n",
    "$$\n",
    "{\\int_{\\Gamma}\\int_{\\Gamma} \\Phi_t(x,y)~\\mathrm{d}\\mu_1(y)\\mu_2(x)},\n",
    "$$\n",
    "in which case we specify a second measure as an optional argument, like so:"
   ]
  },
  {
   "cell_type": "code",
   "execution_count": null,
   "id": "c1b68e0d",
   "metadata": {},
   "outputs": [],
   "source": [
    "μ₂ = rand(M)\n",
    "μ₂ = μ₂/sum(μ₂)\n",
    "t = 1/sqrt(2)\n",
    "eval_green_double_integral(Ψ, t, h; μ₂ = μ₂)"
   ]
  },
  {
   "cell_type": "markdown",
   "id": "e320d480",
   "metadata": {},
   "source": [
    "Note that the first measure $\\mu_1$ is the one which was assigned to $\\Psi$ when it was constructed. And the order of the measures does not matter, as the integrand is symmetric."
   ]
  },
  {
   "cell_type": "code",
   "execution_count": null,
   "id": "96c6638e",
   "metadata": {},
   "outputs": [],
   "source": []
  }
 ],
 "metadata": {
  "kernelspec": {
   "display_name": "Julia 1.7.2",
   "language": "julia",
   "name": "julia-1.7"
  },
  "language_info": {
   "file_extension": ".jl",
   "mimetype": "application/julia",
   "name": "julia",
   "version": "1.7.2"
  }
 },
 "nbformat": 4,
 "nbformat_minor": 5
}
